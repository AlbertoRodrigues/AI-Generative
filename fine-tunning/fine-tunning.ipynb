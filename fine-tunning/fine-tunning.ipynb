{
 "cells": [
  {
   "cell_type": "markdown",
   "id": "556ddfb4",
   "metadata": {},
   "source": [
    "### Proximos passos: Organizar os dados para o fine tunning usando duas bases: compras e produtos\n",
    "\n",
    "### Conclusão inicial: Para o caso de usar somente uma base o fine tunning funcionou bem, mas ainda temos que manter os metadados mesmo que já tenha sido fornecido durante o fine-tunning. Quero fazer o teste onde o nome da função é sempre o mesmo nos dados de treinamento."
   ]
  },
  {
   "cell_type": "code",
   "execution_count": 1,
   "id": "07607f41",
   "metadata": {},
   "outputs": [],
   "source": [
    "from openai import OpenAI\n",
    "import pandas as pd"
   ]
  },
  {
   "cell_type": "code",
   "execution_count": 2,
   "id": "73ffe86e",
   "metadata": {},
   "outputs": [],
   "source": [
    "client = OpenAI(api_key = \"API-KEY\")"
   ]
  },
  {
   "cell_type": "code",
   "execution_count": null,
   "id": "b6b2585e",
   "metadata": {},
   "outputs": [],
   "source": [
    "response = client.chat.completions.create(\n",
    "    model=\"gpt-3.5-turbo-1106\",\n",
    "    messages=[{\"role\": \"user\", \"content\": \"Say this is a test\"}],\n",
    ")\n",
    "response.choices[0].message.content"
   ]
  },
  {
   "cell_type": "code",
   "execution_count": null,
   "id": "5d2dec41",
   "metadata": {},
   "outputs": [],
   "source": []
  },
  {
   "cell_type": "markdown",
   "id": "d1778bef",
   "metadata": {},
   "source": [
    "# Modelo: gpt-3.5-turbo-1106"
   ]
  },
  {
   "cell_type": "markdown",
   "id": "2cfc77f5",
   "metadata": {},
   "source": [
    "Nome da base: Base de dados de compras\n",
    "- ID_compra: Identificador único para cada compra.\n",
    "- ID_produto: Identificador único para cada produto comprado.\n",
    "- ID_cliente: Identificador único para cada cliente que fez a compra.\n",
    "- valor: Valor total da compra.\n",
    "\n",
    "Contexto:\n",
    "Esta base de dados contém informações sobre as compras realizadas. Cada linha representa uma compra, com detalhes como o produto comprado, o cliente que fez a compra e o valor total da compra.\n",
    "\n",
    "Nome da base: Base de dados de produtos\n",
    "- ID_produto: Identificador único para cada produto.\n",
    "- nome_produto: Nome do produto.\n",
    "- preco_unitario: Preço unitário do produto.\n",
    "\n",
    "Contexto:\n",
    "Esta base de dados contém informações sobre os produtos disponíveis para compra. Cada linha representa um produto, com detalhes como o nome e o preço unitário.\n",
    "\n",
    "Nome da base: Base de dados de clientes\n",
    "- ID_cliente: Identificador único para cada cliente.\n",
    "- nome_cliente: Nome do cliente.\n",
    "- cidade: Cidade onde o cliente reside.\n",
    "\n",
    "Contexto:\n",
    "Esta base de dados contém informações sobre os clientes. Cada linha representa um cliente, com detalhes como o nome e a cidade onde reside.\n"
   ]
  },
  {
   "cell_type": "markdown",
   "id": "37c6537d",
   "metadata": {},
   "source": [
    "## Como será as roles para os metadados?\n",
    "{\"messages\": [{\"role\": \"system\", \"content\": \"Considere o metadados desta base, que inclui o contexto geral da base e uma explicação para cada variável contida:\\n\\nNome da base: Base de dados de compras\\n\\nContexto da base: Esta base de dados contém informações sobre as compras realizadas. Cada linha representa uma compra, com detalhes como o produto comprado, o cliente que fez a compra e o valor total da compra.\\n\\nExplicação de cada variável:\\nID_compra: Identificador único para cada compra.\\nID_produto: Identificador único para cada produto comprado.\\nID_cliente: Identificador único para cada cliente que fez a compra.\\nvalor: Valor total da compra.\"}, {\"role\": \"user\", \"content\": \"Quais são os dados disponíveis na base de dados compras?\"}, {\"role\": \"assistant\", \"content\": \"Esta base de dados contém informações sobre as compras realizadas. Cada linha representa uma compra, com detalhes como o produto comprado, o cliente que fez a compra e o valor total da compra.\"}]}"
   ]
  },
  {
   "cell_type": "markdown",
   "id": "8f8bf3c4",
   "metadata": {},
   "source": [
    "## Prompt inicial para mandar para o chatGPT gerar o json para o fine tunning:\n",
    "\n",
    "Considere o seguinte formato de json:\n",
    "\n",
    "{\"messages\":[{\"role\":\"system\",\"content\":\"Você é um expert em criar códigos em Python para responder várias perguntas de negócio que um usuário está interresado em descobrir. Seu código deve receber a base compras e retornar o resultado na variável res. Use as bibliotecas pandas e numpy para criar essa função.\n",
    "\n",
    "Considere o dataframe base_compras com as seguintes colunas: ['ID_compra', 'ID_produto', 'ID_cliente', 'valor'] com os seguintes metadados:\n",
    "\n",
    "Contexto: Esta base de dados contém informações sobre as compras realizadas. Cada linha representa uma compra, com detalhes como o produto comprado, o cliente que fez a compra e o valor total da compra.\n",
    "\n",
    "ID_compra: Identificador único para cada compra. ID_produto: Identificador único para cada produto comprado. ID_cliente: Identificador único para cada cliente que fez a compra. valor: Valor total da compra.\n",
    "\n",
    "e o seguinte dataframe base_produtos com as seguintes colunas: ['ID_produto', 'nome_produto', 'preco_unitario'] com os seguintes metadados:\n",
    "\n",
    "Contexto: Esta base de dados contém informações sobre os produtos disponíveis para compra. Cada linha representa um produto, com detalhes como o nome e o preço unitário.\n",
    "\n",
    "ID_produto: Identificador único para cada produto. nome_produto: Nome do produto. preco_unitario: Preço unitário do produto.\n",
    "\n",
    "Escreva uma função em Python chamada responder_pergunta que recebe dois argumentos base_compras e base_produtos. A função deve retornar a resposta para a pergunta do usuário. Seja claro e conciso ao escrever a função. A função não necessariamente usa todas as bases e sim somente as que são necessárias para responder as perguntas.\"},{\"role\":\"user\",\"content\":\"Qual é o número total de compras na base de dados?\"},{\"role\":\"assistant\",\"content\":\"import pandas as pd\\n\\n# Função para carregar a base de dados\\ndef carregar_base_dados():\\n    return pd.read_csv('base_de_dados_compras.csv')\"}]}\n",
    "\n",
    "Me gere a mesma coisa para as seguintes perguntas que devem ser na role user e as funções que devem estar na role assisstante. A role system deve ser exatamente a mesma do formato fornecido.\n",
    "\n",
    "\n",
    "### Substituir pela pergunta atual\n",
    "    Qual é o nome de um produto específico?\n",
    "\n",
    "### Substituir pela função em python atual\n",
    "python\n",
    "\n",
    "def responde_pergunta(base_produtos, ID_produto):\n",
    "    produto = base_produtos[base_produtos['ID_produto'] == ID_produto]\n",
    "    if not produto.empty:\n",
    "        return f\"O nome do produto {ID_produto} é '{produto['nome_produto'].values[0]}'\"\n",
    "    else:\n",
    "        return \"Produto não encontrado.\""
   ]
  },
  {
   "cell_type": "markdown",
   "id": "dee5accd",
   "metadata": {},
   "source": [
    "# Fazer o estudo com as seguintes perguntas (Pensar em mais perguntas):\n",
    "\n",
    "- Qual é o nome de um produto específico?\n",
    "- Qual é o preço unitário de um produto específico?\n",
    "- Qual é o valor médio de todas as compras?\n",
    "- Qual é o produto mais caro disponível?\n",
    "- Quantos produtos diferentes estão disponíveis para compra?\n",
    "- Qual é o cliente que mais gastou em compras?\n",
    "- Qual é o produto mais vendido?\n",
    "- Qual é o valor máximo gasto em uma única compra?\n",
    "- Qual é o cliente que comprou mais produtos?\n",
    "- Qual é o produto menos vendido?\n",
    "- Qual é o cliente que fez a compra mais cara?"
   ]
  },
  {
   "cell_type": "code",
   "execution_count": 3,
   "id": "d7edb4ec",
   "metadata": {},
   "outputs": [],
   "source": [
    "# Base de dados de compras\n",
    "compras_data = {\n",
    "    'ID_compra': [1, 2, 3, 4],\n",
    "    'ID_produto': [101, 102, 101, 103],\n",
    "    'ID_cliente': [201, 202, 203, 201],\n",
    "    'valor': [50.00, 30.00, 40.00, 70.00]\n",
    "}\n",
    "\n",
    "compras_df = pd.DataFrame(compras_data)"
   ]
  },
  {
   "cell_type": "code",
   "execution_count": 7,
   "id": "887132a9",
   "metadata": {},
   "outputs": [
    {
     "data": {
      "text/plain": [
       "Index(['ID_compra', 'ID_produto', 'ID_cliente', 'valor'], dtype='object')"
      ]
     },
     "execution_count": 7,
     "metadata": {},
     "output_type": "execute_result"
    }
   ],
   "source": [
    "compras_df.columns"
   ]
  },
  {
   "cell_type": "code",
   "execution_count": 4,
   "id": "851639b1",
   "metadata": {},
   "outputs": [],
   "source": [
    "# Base de dados de produtos\n",
    "produtos_data = {\n",
    "    'ID_produto': [101, 102, 103],\n",
    "    'nome_produto': ['Produto A', 'Produto B', 'Produto C'],\n",
    "    'preco_unitario': [25.00, 15.00, 35.00]\n",
    "}\n",
    "\n",
    "produtos_df = pd.DataFrame(produtos_data)"
   ]
  },
  {
   "cell_type": "code",
   "execution_count": 8,
   "id": "bff71c03",
   "metadata": {},
   "outputs": [
    {
     "data": {
      "text/plain": [
       "Index(['ID_produto', 'nome_produto', 'preco_unitario'], dtype='object')"
      ]
     },
     "execution_count": 8,
     "metadata": {},
     "output_type": "execute_result"
    }
   ],
   "source": [
    "produtos_df.columns"
   ]
  },
  {
   "cell_type": "code",
   "execution_count": 5,
   "id": "a1140fa6",
   "metadata": {},
   "outputs": [],
   "source": [
    "# Base de dados de clientes\n",
    "clientes_data = {\n",
    "    'ID_cliente': [201, 202, 203],\n",
    "    'nome_cliente': ['Cliente X', 'Cliente Y', 'Cliente Z'],\n",
    "    'cidade': ['Cidade A', 'Cidade B', 'Cidade C']\n",
    "}\n",
    "\n",
    "clientes_df = pd.DataFrame(clientes_data)"
   ]
  },
  {
   "cell_type": "code",
   "execution_count": 6,
   "id": "c6761e0d",
   "metadata": {},
   "outputs": [
    {
     "name": "stdout",
     "output_type": "stream",
     "text": [
      "Base de dados de compras:\n",
      "   ID_compra  ID_produto  ID_cliente  valor\n",
      "0          1         101         201   50.0\n",
      "1          2         102         202   30.0\n",
      "2          3         101         203   40.0\n",
      "3          4         103         201   70.0\n",
      "\n",
      "Base de dados de produtos:\n",
      "   ID_produto nome_produto  preco_unitario\n",
      "0         101    Produto A            25.0\n",
      "1         102    Produto B            15.0\n",
      "2         103    Produto C            35.0\n",
      "\n",
      "Base de dados de clientes:\n",
      "   ID_cliente nome_cliente    cidade\n",
      "0         201    Cliente X  Cidade A\n",
      "1         202    Cliente Y  Cidade B\n",
      "2         203    Cliente Z  Cidade C\n"
     ]
    }
   ],
   "source": [
    "# Imprimir os dataframes\n",
    "print(\"Base de dados de compras:\")\n",
    "print(compras_df)\n",
    "\n",
    "print(\"\\nBase de dados de produtos:\")\n",
    "print(produtos_df)\n",
    "\n",
    "print(\"\\nBase de dados de clientes:\")\n",
    "print(clientes_df)"
   ]
  },
  {
   "cell_type": "markdown",
   "id": "eb00e41a",
   "metadata": {},
   "source": []
  },
  {
   "cell_type": "markdown",
   "id": "acbd3bc3",
   "metadata": {},
   "source": [
    "\n",
    "\n",
    "    Qual é o nome de um produto específico?\n",
    "\n",
    "python\n",
    "\n",
    "def responde_pergunta(base_produtos, ID_produto):\n",
    "    produto = base_produtos[base_produtos['ID_produto'] == ID_produto]\n",
    "    if not produto.empty:\n",
    "        return f\"O nome do produto {ID_produto} é '{produto['nome_produto'].values[0]}'\"\n",
    "    else:\n",
    "        return \"Produto não encontrado.\"\n",
    "\n",
    "    Qual é o preço unitário de um produto específico?\n",
    "\n",
    "python\n",
    "\n",
    "def responde_pergunta(base_produtos, ID_produto):\n",
    "    produto = base_produtos[base_produtos['ID_produto'] == ID_produto]\n",
    "    if not produto.empty:\n",
    "        return f\"O preço unitário do produto {ID_produto} é R${produto['preco_unitario'].values[0]}\"\n",
    "    else:\n",
    "        return \"Produto não encontrado.\"\n",
    "\n",
    "    Qual é o valor médio de todas as compras?\n",
    "\n",
    "python\n",
    "\n",
    "def responde_pergunta(base_compras):\n",
    "    return f\"O valor médio de todas as compras é R${base_compras['valor'].mean()}\"\n",
    "\n",
    "    Qual é o produto mais caro disponível?\n",
    "\n",
    "python\n",
    "\n",
    "def responde_pergunta(base_produtos):\n",
    "    produto_mais_caro = base_produtos.loc[base_produtos['preco_unitario'].idxmax()]\n",
    "    return f\"O produto mais caro disponível é '{produto_mais_caro['nome_produto']}' com preço de R${produto_mais_caro['preco_unitario']}\"\n",
    "\n",
    "    Quantos produtos diferentes estão disponíveis para compra?\n",
    "\n",
    "python\n",
    "\n",
    "def responde_pergunta(base_produtos):\n",
    "    return f\"Existem {len(base_produtos)} produtos diferentes disponíveis para compra.\"\n",
    "\n",
    "\n",
    "    Qual é o cliente que mais gastou em compras?\n",
    "\n",
    "python\n",
    "\n",
    "def responde_pergunta(base_compras):\n",
    "    cliente_mais_gastador = base_compras.groupby('ID_cliente')['valor'].sum().idxmax()\n",
    "    valor_gasto = base_compras.groupby('ID_cliente')['valor'].sum().max()\n",
    "    return f\"O cliente que mais gastou em compras foi {cliente_mais_gastador} com um total de R${valor_gasto}\"\n",
    "\n",
    "    Qual é o produto mais vendido?\n",
    "\n",
    "python\n",
    "\n",
    "def responde_pergunta(base_compras):\n",
    "    produto_mais_vendido = base_compras['ID_produto'].value_counts().idxmax()\n",
    "    return f\"O produto mais vendido é o {produto_mais_vendido}\"\n",
    "\n",
    "    Qual é o valor máximo gasto em uma única compra?\n",
    "\n",
    "python\n",
    "\n",
    "def responde_pergunta(base_compras):\n",
    "    valor_maximo = base_compras['valor'].max()\n",
    "    return f\"O valor máximo gasto em uma única compra foi R${valor_maximo}\"\n",
    "\n",
    "    Qual é o cliente que comprou mais produtos?\n",
    "\n",
    "python\n",
    "\n",
    "def responde_pergunta(base_compras):\n",
    "    cliente_mais_compras = base_compras['ID_cliente'].value_counts().idxmax()\n",
    "    total_compras = base_compras['ID_cliente'].value_counts().max()\n",
    "    return f\"O cliente que comprou mais produtos foi {cliente_mais_compras} com um total de {total_compras} compras\"\n",
    "\n",
    "    Qual é o produto menos vendido?\n",
    "\n",
    "python\n",
    "\n",
    "def responde_pergunta(base_compras):\n",
    "    produto_menos_vendido = base_compras['ID_produto'].value_counts().idxmin()\n",
    "    return f\"O produto menos vendido é o {produto_menos_vendido}\"\n",
    "\n",
    "    Qual é o cliente que fez a compra mais cara?\n",
    "\n",
    "python\n",
    "\n",
    "def responde_pergunta(base_compras):\n",
    "    cliente_compra_mais_cara = base_compras.loc[base_compras.groupby('ID_cliente')['valor'].idxmax()]['ID_cliente'].values[0]\n",
    "    valor_compra_mais_cara = base_compras.loc[base_compras.groupby('ID_cliente')['valor'].idxmax()]['valor'].max()\n",
    "    return f\"O cliente que fez a compra mais cara foi {cliente_compra_mais_cara} com uma compra de R${valor_compra_mais_cara}\"\n"
   ]
  },
  {
   "cell_type": "code",
   "execution_count": null,
   "id": "59063ff4",
   "metadata": {},
   "outputs": [],
   "source": []
  },
  {
   "cell_type": "code",
   "execution_count": null,
   "id": "92327b62",
   "metadata": {},
   "outputs": [],
   "source": []
  },
  {
   "cell_type": "code",
   "execution_count": null,
   "id": "804a3274",
   "metadata": {},
   "outputs": [],
   "source": [
    "# Código para mandar os dados para a OpenAI\n",
    "client.files.create(\n",
    "  file=open(\"data_v2.json\", \"rb\"),\n",
    "  purpose=\"fine-tune\"\n",
    ")"
   ]
  },
  {
   "cell_type": "code",
   "execution_count": null,
   "id": "8274d290",
   "metadata": {},
   "outputs": [],
   "source": [
    "# Código para realizar o fine-tunning no modelo com os dados do passo anterior\n",
    "responde_fine_tunning = client.fine_tuning.jobs.create(\n",
    "  training_file=\"file-0hteG8LPfEeRb30XhQRT67xC\", \n",
    "  model=\"gpt-3.5-turbo-1106\"\n",
    ")\n",
    "responde_fine_tunning"
   ]
  },
  {
   "cell_type": "code",
   "execution_count": null,
   "id": "329f6f15",
   "metadata": {},
   "outputs": [],
   "source": [
    "responde_fine_tunning.id"
   ]
  },
  {
   "cell_type": "code",
   "execution_count": null,
   "id": "cb3f58c2",
   "metadata": {},
   "outputs": [],
   "source": [
    "responde_fine_tunning.fine_tuned_model"
   ]
  },
  {
   "cell_type": "code",
   "execution_count": null,
   "id": "a4c739b7",
   "metadata": {},
   "outputs": [],
   "source": [
    "client.fine_tuning.jobs.retrieve(\"ftjob-KqnpXaaL3JCh1QKFWSqEFDHP\")"
   ]
  },
  {
   "cell_type": "code",
   "execution_count": null,
   "id": "ee044eb1",
   "metadata": {},
   "outputs": [],
   "source": [
    "#client.fine_tuning.jobs.list(limit=10)"
   ]
  },
  {
   "cell_type": "code",
   "execution_count": null,
   "id": "e5b5bc66",
   "metadata": {},
   "outputs": [],
   "source": [
    "model_id = \"ft:gpt-3.5-turbo-1106:personal::8uQhfXnH\""
   ]
  },
  {
   "cell_type": "code",
   "execution_count": null,
   "id": "977faf42",
   "metadata": {},
   "outputs": [],
   "source": [
    "response = client.chat.completions.create(\n",
    "    model=model_id,\n",
    "    messages=[{\"role\": \"user\", \"content\": \"Me fale sobre a Base de dados de clientes\"}],\n",
    ")\n",
    "response.choices[0].message.content"
   ]
  },
  {
   "cell_type": "code",
   "execution_count": null,
   "id": "069d9e1c",
   "metadata": {},
   "outputs": [],
   "source": []
  },
  {
   "cell_type": "code",
   "execution_count": null,
   "id": "220350cf",
   "metadata": {},
   "outputs": [],
   "source": [
    "response = client.chat.completions.create(\n",
    "    model=model_id,\n",
    "    messages=[\n",
    "        {\"role\": \"system\", \"content\": \"\"\"Você é um expert em criar códigos em Python para responder várias perguntas de negócio\n",
    "        que um usuário está interresado em descobrir. Seu código deve receber a base compras e retornar o resultado na \n",
    "        variável res. Use as bibliotecas pandas e numpy para criar essa função.\n",
    "        Escreva uma função em Python chamada responder_pergunta que recebe um argumento chamado df. \n",
    "        A função deve retornar a resposta para a pergunta fornecida, utilizando os dados da base correspondente.\n",
    "        Seja claro e conciso ao escrever a função.\"\"\"},\n",
    "        {\"role\": \"user\", \"content\": \"Qual foi o terceiro produto mais vendido?\"}],\n",
    ")"
   ]
  },
  {
   "cell_type": "code",
   "execution_count": null,
   "id": "57512c2e",
   "metadata": {},
   "outputs": [],
   "source": [
    "response = client.chat.completions.create(\n",
    "    model=model_id,\n",
    "    messages=[\n",
    "        {\"role\": \"system\", \"content\": \"\"\"Você é um expert em criar códigos em Python para responder várias perguntas de negócio\n",
    "        que um usuário está interresado em descobrir. Seu código deve receber a base compras e retornar o resultado na \n",
    "        variável res. Use as bibliotecas pandas e numpy para criar essa função.\n",
    "        Escreva uma função em Python chamada responder_pergunta que recebe um argumento chamado df. \n",
    "        A função deve retornar a resposta para a pergunta fornecida, utilizando os dados da base correspondente.\n",
    "        Seja claro e conciso ao escrever a função.\"\"\"},\n",
    "        {\"role\": \"user\", \"content\": \"Qual foi a cidade onde teve mais vendas?\"}],\n",
    ")"
   ]
  },
  {
   "cell_type": "code",
   "execution_count": null,
   "id": "132bf1df",
   "metadata": {},
   "outputs": [],
   "source": []
  },
  {
   "cell_type": "code",
   "execution_count": null,
   "id": "7903c9ad",
   "metadata": {},
   "outputs": [],
   "source": []
  },
  {
   "cell_type": "code",
   "execution_count": null,
   "id": "f2ea2a0d",
   "metadata": {},
   "outputs": [],
   "source": [
    "print(response.choices[0].message.content)"
   ]
  },
  {
   "cell_type": "code",
   "execution_count": null,
   "id": "65a0590e",
   "metadata": {},
   "outputs": [],
   "source": [
    "eval(response.choices[0].message.content)"
   ]
  },
  {
   "cell_type": "code",
   "execution_count": null,
   "id": "e2db7cfd",
   "metadata": {},
   "outputs": [],
   "source": [
    "compras_df"
   ]
  },
  {
   "cell_type": "code",
   "execution_count": null,
   "id": "2c034d91",
   "metadata": {},
   "outputs": [],
   "source": []
  },
  {
   "cell_type": "code",
   "execution_count": null,
   "id": "cfff029c",
   "metadata": {},
   "outputs": [],
   "source": []
  }
 ],
 "metadata": {
  "kernelspec": {
   "display_name": "Python 3 (ipykernel)",
   "language": "python",
   "name": "python3"
  },
  "language_info": {
   "codemirror_mode": {
    "name": "ipython",
    "version": 3
   },
   "file_extension": ".py",
   "mimetype": "text/x-python",
   "name": "python",
   "nbconvert_exporter": "python",
   "pygments_lexer": "ipython3",
   "version": "3.9.7"
  }
 },
 "nbformat": 4,
 "nbformat_minor": 5
}
