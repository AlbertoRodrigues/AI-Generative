{
 "cells": [
  {
   "cell_type": "markdown",
   "metadata": {},
   "source": [
    "#### Vou explorar vários métodos de chunking que é um passo essencial para a utilização do método RAG. Esse notebook foi inspirado no repositório (https://github.com/FullStackRetrieval-com/RetrievalTutorials/tree/main) do GitHub\n",
    "### Métodos de chunking:\n",
    "\n",
    "- Level 1: Character Splitting - Simple static character chunks of data\n",
    "- Level 2: Recursive Character Text Splitting - Recursive chunking based on a list of separators\n",
    "- Level 3: Document Specific Splitting - Various chunking methods for different document types (PDF, Python, Markdown)\n",
    "- Level 4: Semantic Splitting - Embedding walk based chunking\n",
    "- Level 5: Agentic Splitting - Experimental method of splitting text with an agent-like system. Good for if you believe that token cost will trend to $0.00"
   ]
  },
  {
   "cell_type": "markdown",
   "metadata": {},
   "source": [
    "## Level 4: Semantic Splitting: Embedding based chunking"
   ]
  },
  {
   "cell_type": "markdown",
   "metadata": {},
   "source": [
    "- Gerar frases pequenas isoladas.\n",
    "- Gerar sentenças compostas sequencias\n",
    "- Gerar embeddings para cada sentença composta sequencial\n",
    "- Calcular as similaridades sequenciais para cada par de embeddings sequencias das sentenças compostas sequenciais\n",
    "- Eu gero os chunks a partir de pontos de quebra de sentenças sequenciais onde a similaridade é abaixo de um determinado limiar gerado por um percentil escolhido."
   ]
  },
  {
   "cell_type": "code",
   "execution_count": 43,
   "metadata": {},
   "outputs": [],
   "source": [
    "from transformers import BertTokenizer, BertModel\n",
    "import torch\n",
    "from sklearn.metrics.pairwise import cosine_similarity\n",
    "import re\n",
    "import matplotlib.pyplot as plt\n",
    "import numpy as np"
   ]
  },
  {
   "cell_type": "code",
   "execution_count": 8,
   "metadata": {},
   "outputs": [],
   "source": [
    "def combine_sentences(sentences, buffer_size=1):\n",
    "    # Go through each sentence dict\n",
    "    for i in range(len(sentences)):\n",
    "\n",
    "        # Create a string that will hold the sentences which are joined\n",
    "        combined_sentence = ''\n",
    "\n",
    "        # Add sentences before the current one, based on the buffer size.\n",
    "        for j in range(i - buffer_size, i):\n",
    "            # Check if the index j is not negative (to avoid index out of range like on the first one)\n",
    "            if j >= 0:\n",
    "                # Add the sentence at index j to the combined_sentence string\n",
    "                combined_sentence += sentences[j]['sentence'] + ' '\n",
    "\n",
    "        # Add the current sentence\n",
    "        combined_sentence += sentences[i]['sentence']\n",
    "\n",
    "        # Add sentences after the current one, based on the buffer size\n",
    "        for j in range(i + 1, i + 1 + buffer_size):\n",
    "            # Check if the index j is within the range of the sentences list\n",
    "            if j < len(sentences):\n",
    "                # Add the sentence at index j to the combined_sentence string\n",
    "                combined_sentence += ' ' + sentences[j]['sentence']\n",
    "\n",
    "        # Then add the whole thing to your dict\n",
    "        # Store the combined sentence in the current sentence dict\n",
    "        sentences[i]['combined_sentence'] = combined_sentence\n",
    "\n",
    "    return sentences"
   ]
  },
  {
   "cell_type": "code",
   "execution_count": 34,
   "metadata": {},
   "outputs": [],
   "source": [
    "def calculate_cosine_distances(sentences):\n",
    "    similarities = []\n",
    "    for i in range(len(sentences) - 1):\n",
    "        embedding_current = sentences[i]['combined_sentence_embedding']\n",
    "        embedding_next = sentences[i + 1]['combined_sentence_embedding']\n",
    "        \n",
    "        # Calculate cosine similarity\n",
    "        similarity = cosine_similarity(embedding_current, embedding_next)[0][0]\n",
    "\n",
    "        # Append cosine distance to the list\n",
    "        similarities.append(similarity)\n",
    "\n",
    "        # Store distance in the dictionary\n",
    "        sentences[i]['similarity_next'] = similarity\n",
    "\n",
    "    # Optionally handle the last sentence\n",
    "    # sentences[-1]['distance_to_next'] = None  # or a default value\n",
    "\n",
    "    return similarities, sentences"
   ]
  },
  {
   "cell_type": "code",
   "execution_count": 2,
   "metadata": {},
   "outputs": [],
   "source": [
    "def gerar_embedding(texto: str) -> torch.Tensor:\n",
    "    # Carregar o tokenizer e o modelo pré-treinado\n",
    "    tokenizer = BertTokenizer.from_pretrained('neuralmind/bert-base-portuguese-cased')\n",
    "    model = BertModel.from_pretrained('neuralmind/bert-base-portuguese-cased')\n",
    "    \n",
    "    # Tokenizar o texto de entrada\n",
    "    inputs = tokenizer(texto, return_tensors='pt', padding=True, truncation=True, max_length=512)\n",
    "    \n",
    "    # Obter as saídas do modelo (embeddings)\n",
    "    with torch.no_grad():\n",
    "        outputs = model(**inputs)\n",
    "    \n",
    "    # Extraímos o embedding da última camada do BERT\n",
    "    embeddings = outputs.last_hidden_state\n",
    "    \n",
    "    # Opcionalmente, podemos calcular a média dos embeddings das palavras para obter um vetor fixo\n",
    "    sentence_embedding = torch.mean(embeddings, dim=1)\n",
    "    \n",
    "    return sentence_embedding"
   ]
  },
  {
   "cell_type": "code",
   "execution_count": 39,
   "metadata": {},
   "outputs": [
    {
     "name": "stdout",
     "output_type": "stream",
     "text": [
      "0.6882421\n"
     ]
    }
   ],
   "source": [
    "# Exemplo de uso\n",
    "embedding1 = gerar_embedding(\"A inteligência artificial está transformando a forma como as empresas operam.\")\n",
    "embedding2 = gerar_embedding(\"Os ataques cibernéticos estão se tornando mais sofisticados e frequentes.\")\n",
    "print(cosine_similarity(embedding1, embedding2)[0][0])\n"
   ]
  },
  {
   "cell_type": "code",
   "execution_count": 16,
   "metadata": {},
   "outputs": [],
   "source": [
    "with open('tecnologia.txt') as file:\n",
    "    essay = file.read()"
   ]
  },
  {
   "cell_type": "code",
   "execution_count": 17,
   "metadata": {},
   "outputs": [
    {
     "name": "stdout",
     "output_type": "stream",
     "text": [
      "104 sentenças foram encontradas\n"
     ]
    }
   ],
   "source": [
    "# Separando o texto em sentenças menores baseado em: '.', '?', and '!'\n",
    "single_sentences_list = re.split(r'(?<=[.?!])\\s+', essay)\n",
    "print (f\"{len(single_sentences_list)} sentenças foram encontradas\")"
   ]
  },
  {
   "cell_type": "code",
   "execution_count": 18,
   "metadata": {},
   "outputs": [
    {
     "data": {
      "text/plain": [
       "[{'sentence': '    A inteligência artificial está transformando a forma como as empresas operam.',\n",
       "  'index': 0},\n",
       " {'sentence': 'Os assistentes virtuais, como a Alexa e o Google Assistant, utilizam inteligência artificial para melhorar a experiência do usuário.',\n",
       "  'index': 1},\n",
       " {'sentence': 'A IA pode ser usada para prever tendências de mercado e ajudar nas decisões empresariais.',\n",
       "  'index': 2}]"
      ]
     },
     "execution_count": 18,
     "metadata": {},
     "output_type": "execute_result"
    }
   ],
   "source": [
    "# \n",
    "sentences = [{'sentence': x, 'index' : i} for i, x in enumerate(single_sentences_list)]\n",
    "sentences[:3]"
   ]
  },
  {
   "cell_type": "code",
   "execution_count": 19,
   "metadata": {},
   "outputs": [],
   "source": [
    "sentences = combine_sentences(sentences)"
   ]
  },
  {
   "cell_type": "code",
   "execution_count": 20,
   "metadata": {},
   "outputs": [
    {
     "data": {
      "text/plain": [
       "[{'sentence': '    A inteligência artificial está transformando a forma como as empresas operam.',\n",
       "  'index': 0,\n",
       "  'combined_sentence': '    A inteligência artificial está transformando a forma como as empresas operam. Os assistentes virtuais, como a Alexa e o Google Assistant, utilizam inteligência artificial para melhorar a experiência do usuário.'},\n",
       " {'sentence': 'Os assistentes virtuais, como a Alexa e o Google Assistant, utilizam inteligência artificial para melhorar a experiência do usuário.',\n",
       "  'index': 1,\n",
       "  'combined_sentence': '    A inteligência artificial está transformando a forma como as empresas operam. Os assistentes virtuais, como a Alexa e o Google Assistant, utilizam inteligência artificial para melhorar a experiência do usuário. A IA pode ser usada para prever tendências de mercado e ajudar nas decisões empresariais.'},\n",
       " {'sentence': 'A IA pode ser usada para prever tendências de mercado e ajudar nas decisões empresariais.',\n",
       "  'index': 2,\n",
       "  'combined_sentence': 'Os assistentes virtuais, como a Alexa e o Google Assistant, utilizam inteligência artificial para melhorar a experiência do usuário. A IA pode ser usada para prever tendências de mercado e ajudar nas decisões empresariais. O aprendizado de máquina é uma subárea da inteligência artificial que está revolucionando muitos setores.'}]"
      ]
     },
     "execution_count": 20,
     "metadata": {},
     "output_type": "execute_result"
    }
   ],
   "source": [
    "sentences[:3]"
   ]
  },
  {
   "cell_type": "code",
   "execution_count": 21,
   "metadata": {},
   "outputs": [],
   "source": [
    "embeddings = [gerar_embedding(x['combined_sentence']) for x in sentences]"
   ]
  },
  {
   "cell_type": "code",
   "execution_count": 22,
   "metadata": {},
   "outputs": [],
   "source": [
    "for i, sentence in enumerate(sentences):\n",
    "    sentence['combined_sentence_embedding'] = embeddings[i]"
   ]
  },
  {
   "cell_type": "code",
   "execution_count": 35,
   "metadata": {},
   "outputs": [],
   "source": [
    "similarities, sentences = calculate_cosine_distances(sentences)"
   ]
  },
  {
   "cell_type": "code",
   "execution_count": 40,
   "metadata": {},
   "outputs": [
    {
     "data": {
      "text/plain": [
       "[<matplotlib.lines.Line2D at 0x2a0728c2520>]"
      ]
     },
     "execution_count": 40,
     "metadata": {},
     "output_type": "execute_result"
    },
    {
     "data": {
      "image/png": "[encoded data removed]",
      "text/plain": [
       "<Figure size 432x288 with 1 Axes>"
      ]
     },
     "metadata": {
      "needs_background": "light"
     },
     "output_type": "display_data"
    }
   ],
   "source": [
    "plt.plot(similarities)"
   ]
  },
  {
   "cell_type": "code",
   "execution_count": 46,
   "metadata": {},
   "outputs": [
    {
     "name": "stdout",
     "output_type": "stream",
     "text": [
      "0.9381374955177307\n",
      "6\n",
      "[4, 13, 20, 27, 85, 100]\n"
     ]
    }
   ],
   "source": [
    "# We need to get the distance threshold that we'll consider an outlier\n",
    "# We'll use numpy .percentile() for this\n",
    "breakpoint_percentile_threshold = 5\n",
    "breakpoint_distance_threshold = np.percentile(similarities, breakpoint_percentile_threshold) # If you want more chunks, lower the percentile cutoff\n",
    "print(breakpoint_distance_threshold)\n",
    "\n",
    "# Then we'll see how many distances are actually above this one\n",
    "num_distances_above_theshold = len([x for x in similarities if x <= breakpoint_distance_threshold]) # The amount of distances above your threshold\n",
    "print(num_distances_above_theshold)\n",
    "\n",
    "# Then we'll get the index of the distances that are above the threshold. This will tell us where we should split our text\n",
    "indices_above_thresh = [i for i, x in enumerate(similarities) if x <= breakpoint_distance_threshold] # The indices of those breakpoints on your list\n",
    "print(indices_above_thresh)"
   ]
  },
  {
   "cell_type": "code",
   "execution_count": 47,
   "metadata": {},
   "outputs": [],
   "source": [
    "# Initialize the start index\n",
    "start_index = 0\n",
    "\n",
    "# Create a list to hold the grouped sentences\n",
    "chunks = []\n",
    "\n",
    "# Iterate through the breakpoints to slice the sentences\n",
    "for index in indices_above_thresh:\n",
    "    # The end index is the current breakpoint\n",
    "    end_index = index\n",
    "\n",
    "    # Slice the sentence_dicts from the current start index to the end index\n",
    "    group = sentences[start_index:end_index + 1]\n",
    "    combined_text = ' '.join([d['sentence'] for d in group])\n",
    "    chunks.append(combined_text)\n",
    "    \n",
    "    # Update the start index for the next group\n",
    "    start_index = index + 1\n",
    "\n",
    "# The last group, if any sentences remain\n",
    "if start_index < len(sentences):\n",
    "    combined_text = ' '.join([d['sentence'] for d in sentences[start_index:]])\n",
    "    chunks.append(combined_text)"
   ]
  },
  {
   "cell_type": "code",
   "execution_count": 49,
   "metadata": {},
   "outputs": [
    {
     "data": {
      "text/plain": [
       "'    A inteligência artificial está transformando a forma como as empresas operam. Os assistentes virtuais, como a Alexa e o Google Assistant, utilizam inteligência artificial para melhorar a experiência do usuário. A IA pode ser usada para prever tendências de mercado e ajudar nas decisões empresariais. O aprendizado de máquina é uma subárea da inteligência artificial que está revolucionando muitos setores. Chatbots com IA estão sendo usados para melhorar o atendimento ao cliente.'"
      ]
     },
     "execution_count": 49,
     "metadata": {},
     "output_type": "execute_result"
    }
   ],
   "source": []
  },
  {
   "cell_type": "markdown",
   "metadata": {},
   "source": [
    "### Level 5: Agentic Splitting - Experimental method of splitting text with an agent-like system. Good for if you believe that token cost will trend to $0.00"
   ]
  },
  {
   "cell_type": "code",
   "execution_count": null,
   "metadata": {},
   "outputs": [],
   "source": []
  },
  {
   "cell_type": "code",
   "execution_count": null,
   "metadata": {},
   "outputs": [],
   "source": []
  },
  {
   "cell_type": "code",
   "execution_count": null,
   "metadata": {},
   "outputs": [],
   "source": []
  },
  {
   "cell_type": "code",
   "execution_count": null,
   "metadata": {},
   "outputs": [],
   "source": []
  }
 ],
 "metadata": {
  "kernelspec": {
   "display_name": "base",
   "language": "python",
   "name": "python3"
  },
  "language_info": {
   "codemirror_mode": {
    "name": "ipython",
    "version": 3
   },
   "file_extension": ".py",
   "mimetype": "text/x-python",
   "name": "python",
   "nbconvert_exporter": "python",
   "pygments_lexer": "ipython3",
   "version": "3.9.7"
  }
 },
 "nbformat": 4,
 "nbformat_minor": 2
}
