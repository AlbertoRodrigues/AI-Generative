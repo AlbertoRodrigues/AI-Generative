{
 "cells": [
  {
   "cell_type": "code",
   "execution_count": 2,
   "metadata": {},
   "outputs": [],
   "source": [
    "from openai import OpenAI\n",
    "from dotenv import load_dotenv\n",
    "import os"
   ]
  },
  {
   "cell_type": "code",
   "execution_count": 3,
   "metadata": {},
   "outputs": [],
   "source": [
    "load_dotenv()\n",
    "\n",
    "api_key = os.getenv('OPENAI_API_KEY')\n",
    "client = OpenAI(api_key = api_key)"
   ]
  },
  {
   "cell_type": "code",
   "execution_count": 1,
   "metadata": {},
   "outputs": [],
   "source": [
    "DOCUMENT_CONTEXT_PROMPT = \"\"\"\n",
    "<document>\n",
    "  Este documento trata sobre o uso de inteligência artificial (IA) para otimização de processos em empresas. A IA pode ser aplicada para automação de tarefas, análise de dados, tomada de decisões e melhoria da eficiência operacional. Também discute exemplos práticos de como diferentes setores estão utilizando IA para alcançar melhores resultados.\n",
    "\n",
    "    A seção inicial introduz os conceitos básicos de IA e seu impacto na indústria atual. Explica o que é IA, como funciona e quais são seus benefícios para as empresas.\n",
    "\n",
    "    A segunda seção explora o uso de IA na automação de tarefas. Discute como as empresas estão usando robôs e software inteligente para automatizar tarefas rotineiras e diminuir a necessidade de intervenção humana.\n",
    "\n",
    "    A terceira seção foca na análise de dados. Explica como a IA pode ser usada para processar grandes volumes de dados, identificar padrões e tomar decisões baseadas em dados.\n",
    "\n",
    "    A última seção apresenta estudos de caso de empresas que implementaram soluções baseadas em IA. Mostra os resultados obtidos e os desafios enfrentados.\n",
    "</document>\n",
    "\"\"\"\n",
    "\n",
    "CHUNK_CONTEXT_PROMPT = \"\"\"\n",
    "Aqui está o trecho que queremos situar dentro do documento principal:\n",
    "<chunk>\n",
    "{chunk_content}\n",
    "</chunk>\n",
    "\n",
    "Por favor, forneça um contexto curto e sucinto para situar este trecho dentro do documento geral, para melhorar a recuperação de busca do trecho. Responda apenas com o contexto sucinto e nada mais.\n",
    "\"\"\"\n",
    "\n",
    "# Exemplo dos chunks com seus contextos\n",
    "chunks = [\n",
    "\"A seção inicial introduz os conceitos básicos de IA e seu impacto na indústria atual. Explica o que é IA, como funciona e quais são seus benefícios para as empresas.\",\n",
    "\"A segunda seção explora o uso de IA na automação de tarefas. Discute como as empresas estão usando robôs e software inteligente para automatizar tarefas rotineiras e diminuir a necessidade de intervenção humana.\",\n",
    "\"A terceira seção foca na análise de dados. Explica como a IA pode ser usada para processar grandes volumes de dados, identificar padrões e tomar decisões baseadas em dados.\",\n",
    " \"A última seção apresenta estudos de caso de empresas que implementaram soluções baseadas em IA. Mostra os resultados obtidos e os desafios enfrentados.\",\n",
    "]\n"
   ]
  },
  {
   "cell_type": "code",
   "execution_count": 10,
   "metadata": {},
   "outputs": [
    {
     "name": "stdout",
     "output_type": "stream",
     "text": [
      "A seção inicial do documento apresenta uma visão geral sobre inteligência artificial, detalhando definições fundamentais, o funcionamento da tecnologia e os benefícios que pode trazer para as empresas em termos de eficiência e inovação.\n",
      "A automação de tarefas é uma das principais aplicações da inteligência artificial nas empresas, permitindo que rotinas sejam executadas por robôs e software inteligente, resultando em maior eficiência e redução da necessidade de intervenção humana.\n",
      "A terceira seção do documento, que aborda a análise de dados, destaca a importância da inteligência artificial na capacidade das empresas de manipular e interpretar grandes volumes de informações. Essa seção é fundamental para entender como a IA contribui para a identificação de padrões e apoia a tomada de decisões informadas, representando um avanço significativo na eficiência operacional.\n",
      "Esta seção do documento foca em exemplos práticos e estudos de caso que ilustram a aplicação de inteligência artificial em empresas. Ela detalha como a implementação de soluções baseadas em IA foi capaz de gerar resultados e quais desafios as organizações enfrentaram durante esse processo.\n"
     ]
    }
   ],
   "source": [
    "for chunk_content in chunks:\n",
    "    response = client.chat.completions.create(\n",
    "        model=\"gpt-4o-mini-2024-07-18\",\n",
    "        messages=[\n",
    "            {\"role\": \"system\", \"content\": DOCUMENT_CONTEXT_PROMPT},\n",
    "            {\"role\": \"user\", \"content\": CHUNK_CONTEXT_PROMPT.replace(\"{chunk_content}\", chunk_content)}\n",
    "        ]\n",
    "    )\n",
    "    \n",
    "    # Processar a resposta do LLM (por exemplo, imprimir o contexto)\n",
    "    print(response.choices[0].message.content)"
   ]
  },
  {
   "cell_type": "code",
   "execution_count": null,
   "metadata": {},
   "outputs": [],
   "source": []
  },
  {
   "cell_type": "code",
   "execution_count": null,
   "metadata": {},
   "outputs": [],
   "source": []
  },
  {
   "cell_type": "code",
   "execution_count": null,
   "metadata": {},
   "outputs": [],
   "source": []
  }
 ],
 "metadata": {
  "kernelspec": {
   "display_name": "env_gen_ai",
   "language": "python",
   "name": "python3"
  },
  "language_info": {
   "codemirror_mode": {
    "name": "ipython",
    "version": 3
   },
   "file_extension": ".py",
   "mimetype": "text/x-python",
   "name": "python",
   "nbconvert_exporter": "python",
   "pygments_lexer": "ipython3",
   "version": "3.10.14"
  }
 },
 "nbformat": 4,
 "nbformat_minor": 2
}
