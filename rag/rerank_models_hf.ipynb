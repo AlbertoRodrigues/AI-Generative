{
 "cells": [
  {
   "cell_type": "code",
   "execution_count": 1,
   "metadata": {},
   "outputs": [
    {
     "name": "stderr",
     "output_type": "stream",
     "text": [
      "c:\\Users\\alber\\anaconda3\\envs\\env_gen_ai\\lib\\site-packages\\tqdm\\auto.py:21: TqdmWarning: IProgress not found. Please update jupyter and ipywidgets. See https://ipywidgets.readthedocs.io/en/stable/user_install.html\n",
      "  from .autonotebook import tqdm as notebook_tqdm\n"
     ]
    }
   ],
   "source": [
    "from transformers import AutoTokenizer, AutoModelForSequenceClassification\n",
    "import torch"
   ]
  },
  {
   "cell_type": "code",
   "execution_count": 13,
   "metadata": {},
   "outputs": [
    {
     "name": "stderr",
     "output_type": "stream",
     "text": [
      "c:\\Users\\alber\\anaconda3\\envs\\env_gen_ai\\lib\\site-packages\\huggingface_hub\\file_download.py:159: UserWarning: `huggingface_hub` cache-system uses symlinks by default to efficiently store duplicated files but your machine does not support them in C:\\Users\\alber\\.cache\\huggingface\\hub\\models--cross-encoder--ms-marco-electra-base. Caching files will still work but in a degraded version that might require more space on your disk. This warning can be disabled by setting the `HF_HUB_DISABLE_SYMLINKS_WARNING` environment variable. For more details, see https://huggingface.co/docs/huggingface_hub/how-to-cache#limitations.\n",
      "To support symlinks on Windows, you either need to activate Developer Mode or to run Python as an administrator. In order to see activate developer mode, see this article: https://docs.microsoft.com/en-us/windows/apps/get-started/enable-your-device-for-development\n",
      "  warnings.warn(message)\n"
     ]
    }
   ],
   "source": [
    "# Carrega o modelo e o tokenizer do Hugging Face\n",
    "#modelo_reranker = \"cross-encoder/ms-marco-MiniLM-L-6-v2\"\n",
    "modelo_reranker = \"cross-encoder/ms-marco-electra-base\"\n",
    "tokenizer = AutoTokenizer.from_pretrained(modelo_reranker)\n",
    "modelo = AutoModelForSequenceClassification.from_pretrained(modelo_reranker)"
   ]
  },
  {
   "cell_type": "code",
   "execution_count": 14,
   "metadata": {},
   "outputs": [],
   "source": [
    "\n",
    "# Função para pontuar cada documento com base na consulta\n",
    "def pontuar_documentos(consulta, documentos):\n",
    "    pontuacoes = []\n",
    "    for documento in documentos:\n",
    "        entradas = tokenizer(consulta, documento, return_tensors=\"pt\", truncation=True, padding=True)\n",
    "        pontuacao = modelo(**entradas).logits[0].item()\n",
    "        pontuacoes.append((documento, pontuacao))\n",
    "    \n",
    "    # Ordena os documentos pela pontuação em ordem decrescente (mais relevante primeiro)\n",
    "    documentos_ordenados = sorted(pontuacoes, key=lambda x: x[1], reverse=True)\n",
    "    return documentos_ordenados"
   ]
  },
  {
   "cell_type": "code",
   "execution_count": 18,
   "metadata": {},
   "outputs": [],
   "source": [
    "# Consulta\n",
    "consulta = \"Quais são as capitais dos principais países da Europa e suas principais características culturais e históricas?\"\n",
    "\n",
    "# Documentos mais longos\n",
    "documentos = [\n",
    "    # Documentos relacionados\n",
    "    \"\"\"Paris, capital da França, é conhecida por sua rica história, arquitetura e cultura.\n",
    "    A cidade é um dos principais centros de arte e moda do mundo, e possui marcos famosos como a Torre Eiffel e o Louvre.\"\"\",\n",
    "    \n",
    "    \"\"\"Londres é a capital da Inglaterra e do Reino Unido, e tem uma história que remonta a mais de dois milênios.\n",
    "    A cidade é um dos principais centros financeiros do mundo e é famosa por pontos turísticos como o Big Ben, a London Eye e o Palácio de Buckingham.\"\"\",\n",
    "    \n",
    "    \"\"\"Madri, capital da Espanha, é conhecida por sua vida vibrante e por abrigar algumas das melhores coleções de arte da Europa, como o Museu do Prado.\n",
    "    A cidade também é famosa por sua arquitetura histórica e cultura rica, incluindo tradições como o flamenco e a culinária espanhola.\"\"\",\n",
    "    \n",
    "    \"\"\"Berlim, a capital da Alemanha, é uma cidade com uma história complexa, especialmente relacionada à Segunda Guerra Mundial e à Guerra Fria.\n",
    "    A cidade é conhecida por sua diversidade cultural, por seus museus e pela arte de rua. Também abriga o famoso Portão de Brandemburgo.\"\"\",\n",
    "    \n",
    "    \"\"\"Roma é a capital da Itália e uma cidade com uma história extensa e profunda. Foi o centro do Império Romano e ainda preserva monumentos antigos como o Coliseu.\n",
    "    Roma também é conhecida por seu papel na religião católica e abriga o Vaticano.\"\"\",\n",
    "    \n",
    "    \"\"\"Lisboa, capital de Portugal, é famosa por suas colinas, seu bairro histórico Alfama e o clima mediterrâneo.\n",
    "    A cidade combina uma arquitetura colorida, música de fado e uma longa história de navegações e descobertas.\"\"\",\n",
    "\n",
    "    # Documentos não relacionados\n",
    "    \"\"\"O sistema solar é composto por oito planetas principais, cada um com suas características únicas. \n",
    "    Os planetas são Mercúrio, Vênus, Terra, Marte, Júpiter, Saturno, Urano e Netuno.\"\"\",\n",
    "\n",
    "    \"\"\"A fotografia é uma forma de arte que captura momentos no tempo. \n",
    "    Ela evoluiu com o passar dos anos, desde o filme até as câmeras digitais, e é amplamente utilizada para fins pessoais e profissionais.\"\"\",\n",
    "\n",
    "    \"\"\"Python é uma linguagem de programação popular e versátil, usada em diversos campos como ciência de dados, desenvolvimento web e automação.\n",
    "    Ela é conhecida por sua sintaxe simples e comunidade ativa.\"\"\",\n",
    "    \n",
    "    \"\"\"A Amazônia é a maior floresta tropical do mundo e desempenha um papel importante na regulação do clima global. \n",
    "    Ela abriga uma biodiversidade incrível e é fundamental para o ecossistema terrestre.\"\"\",\n",
    "    \n",
    "    \"\"\"A evolução das espécies foi um conceito desenvolvido por Charles Darwin. \n",
    "    Esse processo explica como os seres vivos mudam e se adaptam ao longo de gerações.\"\"\",\n",
    "]\n"
   ]
  },
  {
   "cell_type": "code",
   "execution_count": 19,
   "metadata": {},
   "outputs": [],
   "source": [
    "# Executa a função de reranking\n",
    "documentos_ordenados = pontuar_documentos(consulta, documentos)"
   ]
  },
  {
   "cell_type": "code",
   "execution_count": 20,
   "metadata": {},
   "outputs": [
    {
     "name": "stdout",
     "output_type": "stream",
     "text": [
      "Documentos ordenados por relevância:\n",
      "Pontuação: 2.2512 | Documento: Madri, capital da Espanha, é conhecida por sua vida vibrante e por abrigar algumas das melhores coleções de arte da Europa, como o Museu do Prado.\n",
      "    A cidade também é famosa por sua arquitetura histórica e cultura rica, incluindo tradições como o flamenco e a culinária espanhola.\n",
      "Pontuação: 1.8982 | Documento: O sistema solar é composto por oito planetas principais, cada um com suas características únicas. \n",
      "    Os planetas são Mercúrio, Vênus, Terra, Marte, Júpiter, Saturno, Urano e Netuno.\n",
      "Pontuação: 1.4346 | Documento: Paris, capital da França, é conhecida por sua rica história, arquitetura e cultura.\n",
      "    A cidade é um dos principais centros de arte e moda do mundo, e possui marcos famosos como a Torre Eiffel e o Louvre.\n",
      "Pontuação: -2.3207 | Documento: Londres é a capital da Inglaterra e do Reino Unido, e tem uma história que remonta a mais de dois milênios.\n",
      "    A cidade é um dos principais centros financeiros do mundo e é famosa por pontos turísticos como o Big Ben, a London Eye e o Palácio de Buckingham.\n",
      "Pontuação: -3.1607 | Documento: Lisboa, capital de Portugal, é famosa por suas colinas, seu bairro histórico Alfama e o clima mediterrâneo.\n",
      "    A cidade combina uma arquitetura colorida, música de fado e uma longa história de navegações e descobertas.\n",
      "Pontuação: -4.1415 | Documento: Berlim, a capital da Alemanha, é uma cidade com uma história complexa, especialmente relacionada à Segunda Guerra Mundial e à Guerra Fria.\n",
      "    A cidade é conhecida por sua diversidade cultural, por seus museus e pela arte de rua. Também abriga o famoso Portão de Brandemburgo.\n",
      "Pontuação: -5.6872 | Documento: A fotografia é uma forma de arte que captura momentos no tempo. \n",
      "    Ela evoluiu com o passar dos anos, desde o filme até as câmeras digitais, e é amplamente utilizada para fins pessoais e profissionais.\n",
      "Pontuação: -6.3772 | Documento: A Amazônia é a maior floresta tropical do mundo e desempenha um papel importante na regulação do clima global. \n",
      "    Ela abriga uma biodiversidade incrível e é fundamental para o ecossistema terrestre.\n",
      "Pontuação: -6.5556 | Documento: Roma é a capital da Itália e uma cidade com uma história extensa e profunda. Foi o centro do Império Romano e ainda preserva monumentos antigos como o Coliseu.\n",
      "    Roma também é conhecida por seu papel na religião católica e abriga o Vaticano.\n",
      "Pontuação: -6.9359 | Documento: A evolução das espécies foi um conceito desenvolvido por Charles Darwin. \n",
      "    Esse processo explica como os seres vivos mudam e se adaptam ao longo de gerações.\n",
      "Pontuação: -8.0646 | Documento: Python é uma linguagem de programação popular e versátil, usada em diversos campos como ciência de dados, desenvolvimento web e automação.\n",
      "    Ela é conhecida por sua sintaxe simples e comunidade ativa.\n"
     ]
    }
   ],
   "source": [
    "# Exibe os resultados ordenados\n",
    "print(\"Documentos ordenados por relevância:\")\n",
    "for doc, score in documentos_ordenados:\n",
    "    print(f\"Pontuação: {score:.4f} | Documento: {doc}\")"
   ]
  },
  {
   "cell_type": "code",
   "execution_count": null,
   "metadata": {},
   "outputs": [],
   "source": []
  }
 ],
 "metadata": {
  "kernelspec": {
   "display_name": "env_gen_ai",
   "language": "python",
   "name": "python3"
  },
  "language_info": {
   "codemirror_mode": {
    "name": "ipython",
    "version": 3
   },
   "file_extension": ".py",
   "mimetype": "text/x-python",
   "name": "python",
   "nbconvert_exporter": "python",
   "pygments_lexer": "ipython3",
   "version": "3.10.14"
  }
 },
 "nbformat": 4,
 "nbformat_minor": 2
}
