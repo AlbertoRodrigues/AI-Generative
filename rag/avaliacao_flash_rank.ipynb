{
 "cells": [
  {
   "cell_type": "markdown",
   "metadata": {},
   "source": [
    "## Biblioteca FlashRank"
   ]
  },
  {
   "cell_type": "code",
   "execution_count": 4,
   "metadata": {},
   "outputs": [],
   "source": [
    "from flashrank import Ranker, RerankRequest"
   ]
  },
  {
   "cell_type": "code",
   "execution_count": 20,
   "metadata": {},
   "outputs": [],
   "source": [
    "query = \"Quais são os principais desafios e aplicações da IA generativa na indústria atual?\"\n",
    "passages = [\n",
    "   {\n",
    "      \"id\": 1,\n",
    "      \"text\": \"A IA generativa tem ganhado destaque na indústria, especialmente com modelos como GPT e Diffusion, capazes de criar conteúdos originais e inovadores em diversas áreas. Sua aplicação vai desde geração de texto e imagens até novos designs e modelos de negócio.\",\n",
    "      \"meta\": {\"importância\": \"alta\"}\n",
    "   },\n",
    "   {\n",
    "      \"id\": 2,\n",
    "      \"text\": \"Na indústria atual, a IA generativa é utilizada em uma variedade de setores, incluindo chatbots para atendimento ao cliente, criação de imagens personalizadas para campanhas de marketing, design de produtos inovadores e produção de conteúdos audiovisuais, como roteiros e dublagens.\",\n",
    "      \"meta\": {\"importância\": \"alta\"}\n",
    "   },\n",
    "   {\n",
    "      \"id\": 3,\n",
    "      \"text\": \"Além das aplicações, a IA generativa enfrenta desafios importantes, como o viés nos modelos, a criação de deepfakes e a desinformação. Existe também a preocupação com o impacto nos empregos, especialmente em áreas de produção de conteúdo e design.\",\n",
    "      \"meta\": {\"importância\": \"alta\"}\n",
    "   },\n",
    "   {\n",
    "      \"id\": 4,\n",
    "      \"text\": \"A IA generativa pode ter um impacto significativo na redução de custos de produção, acelerando processos criativos e aumentando a eficiência. No entanto, o alto custo de treinamento de modelos avançados e a necessidade de grande poder computacional ainda representam barreiras para muitas empresas.\",\n",
    "      \"meta\": {\"importância\": \"média\"}\n",
    "   },\n",
    "   {\n",
    "      \"id\": 5,\n",
    "      \"text\": \"Embora a IA generativa traga avanços significativos em personalização de conteúdo, como recomendações de produtos e serviços em plataformas de streaming, seu uso mais generalizado em marketing digital e publicidade também levanta questões sobre privacidade e ética no uso de dados pessoais.\",\n",
    "      \"meta\": {\"importância\": \"média\"}\n",
    "   },\n",
    "   {\n",
    "      \"id\": 6,\n",
    "      \"text\": \"O aquecimento global é uma das questões mais urgentes da atualidade, com impactos profundos nos ecossistemas e nas sociedades. As emissões de gases do efeito estufa continuam a aumentar, o que gera mudanças climáticas e eventos extremos cada vez mais frequentes.\",\n",
    "      \"meta\": {\"importância\": \"baixa\"}\n",
    "   },\n",
    "   {\n",
    "      \"id\": 7,\n",
    "      \"text\": \"A história da arte é fascinante, cobrindo diversos períodos e movimentos que refletem as transformações culturais e sociais ao longo do tempo. Do Renascimento ao Modernismo, as expressões artísticas têm sido um reflexo dos avanços e desafios da humanidade.\",\n",
    "      \"meta\": {\"importância\": \"baixa\"}\n",
    "   },\n",
    "   {\n",
    "      \"id\": 8,\n",
    "      \"text\": \"A exploração espacial continua a ser uma fronteira importante para a ciência e a tecnologia. Missões como as de Marte e a construção de estações espaciais internacionais têm ampliado o conhecimento humano sobre o universo e possibilitado novas tecnologias aplicáveis na Terra.\",\n",
    "      \"meta\": {\"importância\": \"baixa\"}\n",
    "   }\n",
    "]\n"
   ]
  },
  {
   "cell_type": "code",
   "execution_count": 6,
   "metadata": {},
   "outputs": [],
   "source": [
    "ranker = Ranker(max_length=128)\n",
    "rerankrequest = RerankRequest(query=query, passages=passages)"
   ]
  },
  {
   "cell_type": "code",
   "execution_count": 7,
   "metadata": {},
   "outputs": [
    {
     "data": {
      "text/plain": [
       "[{'id': 1,\n",
       "  'text': 'A IA generativa tem ganhado destaque na indústria, especialmente com modelos como GPT e Diffusion, capazes de criar conteúdos originais e inovadores em diversas áreas. Sua aplicação vai desde geração de texto e imagens até novos designs e modelos de negócio.',\n",
       "  'meta': {'importância': 'alta'},\n",
       "  'score': 0.97679156},\n",
       " {'id': 3,\n",
       "  'text': 'Além das aplicações, a IA generativa enfrenta desafios importantes, como o viés nos modelos, a criação de deepfakes e a desinformação. Existe também a preocupação com o impacto nos empregos, especialmente em áreas de produção de conteúdo e design.',\n",
       "  'meta': {'importância': 'alta'},\n",
       "  'score': 0.97494996},\n",
       " {'id': 5,\n",
       "  'text': 'Embora a IA generativa traga avanços significativos em personalização de conteúdo, como recomendações de produtos e serviços em plataformas de streaming, seu uso mais generalizado em marketing digital e publicidade também levanta questões sobre privacidade e ética no uso de dados pessoais.',\n",
       "  'meta': {'importância': 'média'},\n",
       "  'score': 0.9013787},\n",
       " {'id': 2,\n",
       "  'text': 'Na indústria atual, a IA generativa é utilizada em uma variedade de setores, incluindo chatbots para atendimento ao cliente, criação de imagens personalizadas para campanhas de marketing, design de produtos inovadores e produção de conteúdos audiovisuais, como roteiros e dublagens.',\n",
       "  'meta': {'importância': 'alta'},\n",
       "  'score': 0.8804055},\n",
       " {'id': 4,\n",
       "  'text': 'A IA generativa pode ter um impacto significativo na redução de custos de produção, acelerando processos criativos e aumentando a eficiência. No entanto, o alto custo de treinamento de modelos avançados e a necessidade de grande poder computacional ainda representam barreiras para muitas empresas.',\n",
       "  'meta': {'importância': 'média'},\n",
       "  'score': 0.61766315},\n",
       " {'id': 8,\n",
       "  'text': 'A exploração espacial continua a ser uma fronteira importante para a ciência e a tecnologia. Missões como as de Marte e a construção de estações espaciais internacionais têm ampliado o conhecimento humano sobre o universo e possibilitado novas tecnologias aplicáveis na Terra.',\n",
       "  'meta': {'importância': 'baixa'},\n",
       "  'score': 0.33853585},\n",
       " {'id': 7,\n",
       "  'text': 'A história da arte é fascinante, cobrindo diversos períodos e movimentos que refletem as transformações culturais e sociais ao longo do tempo. Do Renascimento ao Modernismo, as expressões artísticas têm sido um reflexo dos avanços e desafios da humanidade.',\n",
       "  'meta': {'importância': 'baixa'},\n",
       "  'score': 0.053703588},\n",
       " {'id': 6,\n",
       "  'text': 'O aquecimento global é uma das questões mais urgentes da atualidade, com impactos profundos nos ecossistemas e nas sociedades. As emissões de gases do efeito estufa continuam a aumentar, o que gera mudanças climáticas e eventos extremos cada vez mais frequentes.',\n",
       "  'meta': {'importância': 'baixa'},\n",
       "  'score': 0.04801354}]"
      ]
     },
     "execution_count": 7,
     "metadata": {},
     "output_type": "execute_result"
    }
   ],
   "source": [
    "results = ranker.rerank(rerankrequest)\n",
    "results"
   ]
  },
  {
   "cell_type": "code",
   "execution_count": null,
   "metadata": {},
   "outputs": [],
   "source": [
    "rerank_request = RerankRequest(query=query, passages=passages)\n",
    "output = ranker.rerank(rerank_request)\n",
    "\n",
    "# Extrai o ranking gerado pelo modelo (baseado nas pontuações)\n",
    "predicted_ranking = [result[\"id\"] for result in sorted(output, key=lambda x: x[\"score\"], reverse=True)]\n",
    "predicted_ranking"
   ]
  },
  {
   "cell_type": "code",
   "execution_count": null,
   "metadata": {},
   "outputs": [
    {
     "data": {
      "text/plain": [
       "[1, 3, 5, 2, 4, 8, 7, 6]"
      ]
     },
     "execution_count": 11,
     "metadata": {},
     "output_type": "execute_result"
    }
   ],
   "source": [
    "predicted_ranking"
   ]
  },
  {
   "cell_type": "markdown",
   "metadata": {},
   "source": [
    "## Comparação de rerank entre diferente modelos"
   ]
  },
  {
   "cell_type": "code",
   "execution_count": 29,
   "metadata": {},
   "outputs": [],
   "source": [
    "from scipy.stats import kendalltau\n",
    "import pandas as pd\n",
    "import time\n",
    "import numpy as np"
   ]
  },
  {
   "cell_type": "code",
   "execution_count": 9,
   "metadata": {},
   "outputs": [],
   "source": [
    "# Modelos a serem usados\n",
    "rankers = [\n",
    "    {\"name\": \"Ranker(max_length=128)\", \"instance\": Ranker(max_length=128)},\n",
    "    {\"name\": \"Ranker(model_name='ms-marco-MiniLM-L-12-v2')\", \"instance\": Ranker(model_name=\"ms-marco-MiniLM-L-12-v2\")},\n",
    "    {\"name\": \"Ranker(model_name='rank-T5-flan')\", \"instance\": Ranker(model_name=\"rank-T5-flan\")},\n",
    "    {\"name\": \"Ranker(model_name='ms-marco-MultiBERT-L-12')\", \"instance\": Ranker(model_name=\"ms-marco-MultiBERT-L-12\")},\n",
    "]\n",
    "\n",
    "# Função para calcular as métricas\n",
    "def calculate_metrics(true_ranking, predicted_ranking):\n",
    "    # Kendall's Tau\n",
    "    tau, _ = kendalltau(true_ranking, predicted_ranking)\n",
    "    \n",
    "    return tau\n",
    "\n"
   ]
  },
  {
   "cell_type": "code",
   "execution_count": 23,
   "metadata": {},
   "outputs": [
    {
     "data": {
      "text/plain": [
       "[1, 2, 3, 4, 5, 6, 7, 8]"
      ]
     },
     "execution_count": 23,
     "metadata": {},
     "output_type": "execute_result"
    }
   ],
   "source": [
    "true_ranking = [result[\"id\"] for result in sorted(passages, key=lambda x: x[\"id\"], reverse=False)]\n",
    "true_ranking"
   ]
  },
  {
   "cell_type": "code",
   "execution_count": 30,
   "metadata": {},
   "outputs": [],
   "source": [
    "# Processamento para cada modelo\n",
    "results = []\n",
    "for ranker in rankers:\n",
    "    execution_times = []  # Lista para armazenar os tempos de execução para cada iteração\n",
    "    \n",
    "    # Executa o código 5 vezes\n",
    "    for _ in range(5):\n",
    "        start_time = time.time()\n",
    "        # Realiza o reranking com o modelo\n",
    "        rerank_request = RerankRequest(query=query, passages=passages)\n",
    "        output = ranker[\"instance\"].rerank(rerank_request)\n",
    "        end_time = time.time()\n",
    "        \n",
    "        # Calcula o tempo de execução para a iteração\n",
    "        execution_time = end_time - start_time\n",
    "        execution_times.append(execution_time)\n",
    "    \n",
    "    # Calcula o tempo médio e o tempo mediano\n",
    "    avg_execution_time = np.mean(execution_times)\n",
    "    median_execution_time = np.median(execution_times)\n",
    "    \n",
    "    # Extrai o ranking gerado pelo modelo (baseado nas pontuações)\n",
    "    predicted_ranking = [result[\"id\"] for result in sorted(output, key=lambda x: x[\"score\"], reverse=True)]\n",
    "    \n",
    "    # Calcula as métricas\n",
    "    tau = calculate_metrics(true_ranking, predicted_ranking)\n",
    "    \n",
    "    # Armazena os resultados, incluindo o tempo médio e o tempo mediano\n",
    "    results.append({\n",
    "        \"Modelo\": ranker[\"name\"],\n",
    "        \"Métrica\": tau,\n",
    "        \"true_ranking\": true_ranking,\n",
    "        \"predicted_ranking\": predicted_ranking,\n",
    "        \"Tempo Médio (segundos)\": avg_execution_time,\n",
    "        \"Tempo Mediano (segundos)\": median_execution_time\n",
    "    })\n"
   ]
  },
  {
   "cell_type": "code",
   "execution_count": 31,
   "metadata": {},
   "outputs": [
    {
     "name": "stdout",
     "output_type": "stream",
     "text": [
      "                                         Modelo   Métrica  \\\n",
      "3  Ranker(model_name='ms-marco-MultiBERT-L-12')  0.785714   \n",
      "1  Ranker(model_name='ms-marco-MiniLM-L-12-v2')  0.714286   \n",
      "0                        Ranker(max_length=128)  0.571429   \n",
      "2             Ranker(model_name='rank-T5-flan') -0.428571   \n",
      "\n",
      "               true_ranking         predicted_ranking  Tempo Médio (segundos)  \\\n",
      "3  [1, 2, 3, 4, 5, 6, 7, 8]  [2, 1, 3, 5, 4, 6, 8, 7]                0.563338   \n",
      "1  [1, 2, 3, 4, 5, 6, 7, 8]  [3, 1, 2, 5, 4, 7, 6, 8]                0.217655   \n",
      "0  [1, 2, 3, 4, 5, 6, 7, 8]  [1, 3, 5, 2, 4, 8, 7, 6]                0.015556   \n",
      "2  [1, 2, 3, 4, 5, 6, 7, 8]  [7, 8, 4, 5, 2, 3, 1, 6]                0.808404   \n",
      "\n",
      "   Tempo Mediano (segundos)  \n",
      "3                  0.574229  \n",
      "1                  0.217379  \n",
      "0                  0.012233  \n",
      "2                  0.815950  \n"
     ]
    }
   ],
   "source": [
    "df = pd.DataFrame(results)\n",
    "\n",
    "# Ordenando pelo valor da métrica (do maior ao menor)\n",
    "df_sorted = df.sort_values(by='Métrica', ascending=False)\n",
    "\n",
    "# Exibindo o DataFrame ordenado\n",
    "print(df_sorted)"
   ]
  },
  {
   "cell_type": "code",
   "execution_count": null,
   "metadata": {},
   "outputs": [],
   "source": []
  }
 ],
 "metadata": {
  "kernelspec": {
   "display_name": "env_gen_ai",
   "language": "python",
   "name": "python3"
  },
  "language_info": {
   "codemirror_mode": {
    "name": "ipython",
    "version": 3
   },
   "file_extension": ".py",
   "mimetype": "text/x-python",
   "name": "python",
   "nbconvert_exporter": "python",
   "pygments_lexer": "ipython3",
   "version": "3.10.14"
  }
 },
 "nbformat": 4,
 "nbformat_minor": 2
}
