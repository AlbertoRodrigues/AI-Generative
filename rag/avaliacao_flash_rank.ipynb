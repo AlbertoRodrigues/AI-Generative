{
 "cells": [
  {
   "cell_type": "markdown",
   "metadata": {},
   "source": [
    "## Métricas utilazadas para avaliação da recuperação dos chunks\n",
    "- Tau\n",
    "- Precision\n",
    "- Recall"
   ]
  },
  {
   "cell_type": "code",
   "execution_count": 35,
   "metadata": {},
   "outputs": [],
   "source": [
    "from flashrank import Ranker, RerankRequest\n",
    "from scipy.stats import kendalltau\n",
    "import pandas as pd\n",
    "import time\n",
    "import numpy as np\n",
    "pd.set_option('display.max_rows', 100)  # Número de linhas que serão exibidas\n",
    "pd.set_option('display.max_columns', 20)\n",
    "pd.set_option('display.width', 1000)  # Largura máxima para exibição\n",
    "pd.set_option('display.max_colwidth', 500)  # Largura máxima para valores em células\n"
   ]
  },
  {
   "cell_type": "code",
   "execution_count": 20,
   "metadata": {},
   "outputs": [],
   "source": [
    "query = \"Quais são os principais desafios e aplicações da IA generativa na indústria atual?\"\n",
    "passages = [\n",
    "   {\n",
    "      \"id\": 1,\n",
    "      \"text\": \"A IA generativa tem ganhado destaque na indústria, especialmente com modelos como GPT e Diffusion, capazes de criar conteúdos originais e inovadores em diversas áreas. Sua aplicação vai desde geração de texto e imagens até novos designs e modelos de negócio.\",\n",
    "      \"meta\": {\"importância\": \"alta\"}\n",
    "   },\n",
    "   {\n",
    "      \"id\": 2,\n",
    "      \"text\": \"Na indústria atual, a IA generativa é utilizada em uma variedade de setores, incluindo chatbots para atendimento ao cliente, criação de imagens personalizadas para campanhas de marketing, design de produtos inovadores e produção de conteúdos audiovisuais, como roteiros e dublagens.\",\n",
    "      \"meta\": {\"importância\": \"alta\"}\n",
    "   },\n",
    "   {\n",
    "      \"id\": 3,\n",
    "      \"text\": \"Além das aplicações, a IA generativa enfrenta desafios importantes, como o viés nos modelos, a criação de deepfakes e a desinformação. Existe também a preocupação com o impacto nos empregos, especialmente em áreas de produção de conteúdo e design.\",\n",
    "      \"meta\": {\"importância\": \"alta\"}\n",
    "   },\n",
    "   {\n",
    "      \"id\": 4,\n",
    "      \"text\": \"A IA generativa pode ter um impacto significativo na redução de custos de produção, acelerando processos criativos e aumentando a eficiência. No entanto, o alto custo de treinamento de modelos avançados e a necessidade de grande poder computacional ainda representam barreiras para muitas empresas.\",\n",
    "      \"meta\": {\"importância\": \"média\"}\n",
    "   },\n",
    "   {\n",
    "      \"id\": 5,\n",
    "      \"text\": \"Embora a IA generativa traga avanços significativos em personalização de conteúdo, como recomendações de produtos e serviços em plataformas de streaming, seu uso mais generalizado em marketing digital e publicidade também levanta questões sobre privacidade e ética no uso de dados pessoais.\",\n",
    "      \"meta\": {\"importância\": \"média\"}\n",
    "   },\n",
    "   {\n",
    "      \"id\": 6,\n",
    "      \"text\": \"O aquecimento global é uma das questões mais urgentes da atualidade, com impactos profundos nos ecossistemas e nas sociedades. As emissões de gases do efeito estufa continuam a aumentar, o que gera mudanças climáticas e eventos extremos cada vez mais frequentes.\",\n",
    "      \"meta\": {\"importância\": \"baixa\"}\n",
    "   },\n",
    "   {\n",
    "      \"id\": 7,\n",
    "      \"text\": \"A história da arte é fascinante, cobrindo diversos períodos e movimentos que refletem as transformações culturais e sociais ao longo do tempo. Do Renascimento ao Modernismo, as expressões artísticas têm sido um reflexo dos avanços e desafios da humanidade.\",\n",
    "      \"meta\": {\"importância\": \"baixa\"}\n",
    "   },\n",
    "   {\n",
    "      \"id\": 8,\n",
    "      \"text\": \"A exploração espacial continua a ser uma fronteira importante para a ciência e a tecnologia. Missões como as de Marte e a construção de estações espaciais internacionais têm ampliado o conhecimento humano sobre o universo e possibilitado novas tecnologias aplicáveis na Terra.\",\n",
    "      \"meta\": {\"importância\": \"baixa\"}\n",
    "   }\n",
    "]\n"
   ]
  },
  {
   "cell_type": "code",
   "execution_count": 6,
   "metadata": {},
   "outputs": [],
   "source": [
    "ranker = Ranker(max_length=128)\n",
    "rerankrequest = RerankRequest(query=query, passages=passages)"
   ]
  },
  {
   "cell_type": "code",
   "execution_count": 7,
   "metadata": {},
   "outputs": [
    {
     "data": {
      "text/plain": [
       "[{'id': 1,\n",
       "  'text': 'A IA generativa tem ganhado destaque na indústria, especialmente com modelos como GPT e Diffusion, capazes de criar conteúdos originais e inovadores em diversas áreas. Sua aplicação vai desde geração de texto e imagens até novos designs e modelos de negócio.',\n",
       "  'meta': {'importância': 'alta'},\n",
       "  'score': 0.97679156},\n",
       " {'id': 3,\n",
       "  'text': 'Além das aplicações, a IA generativa enfrenta desafios importantes, como o viés nos modelos, a criação de deepfakes e a desinformação. Existe também a preocupação com o impacto nos empregos, especialmente em áreas de produção de conteúdo e design.',\n",
       "  'meta': {'importância': 'alta'},\n",
       "  'score': 0.97494996},\n",
       " {'id': 5,\n",
       "  'text': 'Embora a IA generativa traga avanços significativos em personalização de conteúdo, como recomendações de produtos e serviços em plataformas de streaming, seu uso mais generalizado em marketing digital e publicidade também levanta questões sobre privacidade e ética no uso de dados pessoais.',\n",
       "  'meta': {'importância': 'média'},\n",
       "  'score': 0.9013787},\n",
       " {'id': 2,\n",
       "  'text': 'Na indústria atual, a IA generativa é utilizada em uma variedade de setores, incluindo chatbots para atendimento ao cliente, criação de imagens personalizadas para campanhas de marketing, design de produtos inovadores e produção de conteúdos audiovisuais, como roteiros e dublagens.',\n",
       "  'meta': {'importância': 'alta'},\n",
       "  'score': 0.8804055},\n",
       " {'id': 4,\n",
       "  'text': 'A IA generativa pode ter um impacto significativo na redução de custos de produção, acelerando processos criativos e aumentando a eficiência. No entanto, o alto custo de treinamento de modelos avançados e a necessidade de grande poder computacional ainda representam barreiras para muitas empresas.',\n",
       "  'meta': {'importância': 'média'},\n",
       "  'score': 0.61766315},\n",
       " {'id': 8,\n",
       "  'text': 'A exploração espacial continua a ser uma fronteira importante para a ciência e a tecnologia. Missões como as de Marte e a construção de estações espaciais internacionais têm ampliado o conhecimento humano sobre o universo e possibilitado novas tecnologias aplicáveis na Terra.',\n",
       "  'meta': {'importância': 'baixa'},\n",
       "  'score': 0.33853585},\n",
       " {'id': 7,\n",
       "  'text': 'A história da arte é fascinante, cobrindo diversos períodos e movimentos que refletem as transformações culturais e sociais ao longo do tempo. Do Renascimento ao Modernismo, as expressões artísticas têm sido um reflexo dos avanços e desafios da humanidade.',\n",
       "  'meta': {'importância': 'baixa'},\n",
       "  'score': 0.053703588},\n",
       " {'id': 6,\n",
       "  'text': 'O aquecimento global é uma das questões mais urgentes da atualidade, com impactos profundos nos ecossistemas e nas sociedades. As emissões de gases do efeito estufa continuam a aumentar, o que gera mudanças climáticas e eventos extremos cada vez mais frequentes.',\n",
       "  'meta': {'importância': 'baixa'},\n",
       "  'score': 0.04801354}]"
      ]
     },
     "execution_count": 7,
     "metadata": {},
     "output_type": "execute_result"
    }
   ],
   "source": [
    "results = ranker.rerank(rerankrequest)\n",
    "results"
   ]
  },
  {
   "cell_type": "code",
   "execution_count": null,
   "metadata": {},
   "outputs": [],
   "source": [
    "rerank_request = RerankRequest(query=query, passages=passages)\n",
    "output = ranker.rerank(rerank_request)\n",
    "\n",
    "# Extrai o ranking gerado pelo modelo (baseado nas pontuações)\n",
    "predicted_ranking = [result[\"id\"] for result in sorted(output, key=lambda x: x[\"score\"], reverse=True)]\n",
    "predicted_ranking"
   ]
  },
  {
   "cell_type": "code",
   "execution_count": null,
   "metadata": {},
   "outputs": [
    {
     "data": {
      "text/plain": [
       "[1, 3, 5, 2, 4, 8, 7, 6]"
      ]
     },
     "execution_count": 11,
     "metadata": {},
     "output_type": "execute_result"
    }
   ],
   "source": [
    "predicted_ranking"
   ]
  },
  {
   "cell_type": "markdown",
   "metadata": {},
   "source": [
    "## Comparação de ordenação de modelos rerank entre diferente modelos"
   ]
  },
  {
   "cell_type": "code",
   "execution_count": null,
   "metadata": {},
   "outputs": [],
   "source": []
  },
  {
   "cell_type": "code",
   "execution_count": 9,
   "metadata": {},
   "outputs": [],
   "source": [
    "# Modelos a serem usados\n",
    "rankers = [\n",
    "    {\"name\": \"Ranker(max_length=128)\", \"instance\": Ranker(max_length=128)},\n",
    "    {\"name\": \"Ranker(model_name='ms-marco-MiniLM-L-12-v2')\", \"instance\": Ranker(model_name=\"ms-marco-MiniLM-L-12-v2\")},\n",
    "    {\"name\": \"Ranker(model_name='rank-T5-flan')\", \"instance\": Ranker(model_name=\"rank-T5-flan\")},\n",
    "    {\"name\": \"Ranker(model_name='ms-marco-MultiBERT-L-12')\", \"instance\": Ranker(model_name=\"ms-marco-MultiBERT-L-12\")},\n",
    "]\n",
    "\n",
    "# Função para calcular as métricas\n",
    "def calculate_metrics(true_ranking, predicted_ranking):\n",
    "    # Kendall's Tau\n",
    "    tau, _ = kendalltau(true_ranking, predicted_ranking)\n",
    "    \n",
    "    return tau\n",
    "\n"
   ]
  },
  {
   "cell_type": "code",
   "execution_count": 23,
   "metadata": {},
   "outputs": [
    {
     "data": {
      "text/plain": [
       "[1, 2, 3, 4, 5, 6, 7, 8]"
      ]
     },
     "execution_count": 23,
     "metadata": {},
     "output_type": "execute_result"
    }
   ],
   "source": [
    "true_ranking = [result[\"id\"] for result in sorted(passages, key=lambda x: x[\"id\"], reverse=False)]\n",
    "true_ranking"
   ]
  },
  {
   "cell_type": "code",
   "execution_count": 30,
   "metadata": {},
   "outputs": [],
   "source": [
    "# Processamento para cada modelo\n",
    "results = []\n",
    "for ranker in rankers:\n",
    "    execution_times = []  # Lista para armazenar os tempos de execução para cada iteração\n",
    "    \n",
    "    # Executa o código 5 vezes\n",
    "    for _ in range(5):\n",
    "        start_time = time.time()\n",
    "        # Realiza o reranking com o modelo\n",
    "        rerank_request = RerankRequest(query=query, passages=passages)\n",
    "        output = ranker[\"instance\"].rerank(rerank_request)\n",
    "        end_time = time.time()\n",
    "        \n",
    "        # Calcula o tempo de execução para a iteração\n",
    "        execution_time = end_time - start_time\n",
    "        execution_times.append(execution_time)\n",
    "    \n",
    "    # Calcula o tempo médio e o tempo mediano\n",
    "    avg_execution_time = np.mean(execution_times)\n",
    "    median_execution_time = np.median(execution_times)\n",
    "    \n",
    "    # Extrai o ranking gerado pelo modelo (baseado nas pontuações)\n",
    "    predicted_ranking = [result[\"id\"] for result in sorted(output, key=lambda x: x[\"score\"], reverse=True)]\n",
    "    \n",
    "    # Calcula as métricas\n",
    "    tau = calculate_metrics(true_ranking, predicted_ranking)\n",
    "    \n",
    "    # Armazena os resultados, incluindo o tempo médio e o tempo mediano\n",
    "    results.append({\n",
    "        \"Modelo\": ranker[\"name\"],\n",
    "        \"Métrica\": tau,\n",
    "        \"true_ranking\": true_ranking,\n",
    "        \"predicted_ranking\": predicted_ranking,\n",
    "        \"Tempo Médio (segundos)\": avg_execution_time,\n",
    "        \"Tempo Mediano (segundos)\": median_execution_time\n",
    "    })\n"
   ]
  },
  {
   "cell_type": "code",
   "execution_count": 31,
   "metadata": {},
   "outputs": [
    {
     "name": "stdout",
     "output_type": "stream",
     "text": [
      "                                         Modelo   Métrica  \\\n",
      "3  Ranker(model_name='ms-marco-MultiBERT-L-12')  0.785714   \n",
      "1  Ranker(model_name='ms-marco-MiniLM-L-12-v2')  0.714286   \n",
      "0                        Ranker(max_length=128)  0.571429   \n",
      "2             Ranker(model_name='rank-T5-flan') -0.428571   \n",
      "\n",
      "               true_ranking         predicted_ranking  Tempo Médio (segundos)  \\\n",
      "3  [1, 2, 3, 4, 5, 6, 7, 8]  [2, 1, 3, 5, 4, 6, 8, 7]                0.563338   \n",
      "1  [1, 2, 3, 4, 5, 6, 7, 8]  [3, 1, 2, 5, 4, 7, 6, 8]                0.217655   \n",
      "0  [1, 2, 3, 4, 5, 6, 7, 8]  [1, 3, 5, 2, 4, 8, 7, 6]                0.015556   \n",
      "2  [1, 2, 3, 4, 5, 6, 7, 8]  [7, 8, 4, 5, 2, 3, 1, 6]                0.808404   \n",
      "\n",
      "   Tempo Mediano (segundos)  \n",
      "3                  0.574229  \n",
      "1                  0.217379  \n",
      "0                  0.012233  \n",
      "2                  0.815950  \n"
     ]
    }
   ],
   "source": [
    "df = pd.DataFrame(results)\n",
    "\n",
    "# Ordenando pelo valor da métrica (do maior ao menor)\n",
    "df_sorted = df.sort_values(by='Métrica', ascending=False)\n",
    "\n",
    "# Exibindo o DataFrame ordenado\n",
    "print(df_sorted)"
   ]
  },
  {
   "cell_type": "code",
   "execution_count": null,
   "metadata": {},
   "outputs": [],
   "source": []
  },
  {
   "cell_type": "markdown",
   "metadata": {},
   "source": [
    "## Comparação de relevância(sem considerar ordenação) entre diferentes modelos de rerank"
   ]
  },
  {
   "cell_type": "code",
   "execution_count": 16,
   "metadata": {},
   "outputs": [],
   "source": [
    "queries = [\n",
    "    {\n",
    "  \"query\": \"Quais são os principais desafios e aplicações da IA generativa na indústria atual?\",\n",
    "  \"passages\": [\n",
    "    {\"id\": 1, \"text\": \"A IA generativa é utilizada em design de produtos e criação de roteiros audiovisuais.\", \"relevante\": 1},\n",
    "    {\"id\": 2, \"text\": \"Desafios éticos incluem viés e impacto nos empregos causados pela IA generativa.\", \"relevante\": 1},\n",
    "    {\"id\": 3, \"text\": \"A IA generativa oferece personalização em plataformas de streaming, com sugestões adaptadas ao gosto do usuário.\", \"relevante\": 1},\n",
    "    {\"id\": 4, \"text\": \"A geração de deepfakes é um dos grandes desafios éticos associados à IA generativa.\", \"relevante\": 1},\n",
    "    {\"id\": 5, \"text\": \"Uso de IA generativa em criação de protótipos rápidos para desenvolvimento de novos produtos.\", \"relevante\": 1},\n",
    "    {\"id\": 6, \"text\": \"Aquecimento global é uma ameaça global causada pelas emissões de carbono.\", \"relevante\": 0},\n",
    "    {\"id\": 7, \"text\": \"Movimentos artísticos como o Barroco influenciaram a história da arte.\", \"relevante\": 0},\n",
    "    {\"id\": 8, \"text\": \"Exploração espacial tem avançado com missões tripuladas e construção de telescópios modernos.\", \"relevante\": 0},\n",
    "    {\"id\": 9, \"text\": \"O uso de IA em medicina tem gerado grandes avanços, mas também apresenta questões éticas.\", \"relevante\": 0},\n",
    "    {\"id\": 10, \"text\": \"Plataformas de e-commerce estão investindo em IA generativa para otimizar a personalização de anúncios.\", \"relevante\": 0},\n",
    "    {\"id\": 11, \"text\": \"A IA generativa também é utilizada em melhorias na tradução automática e chatbots.\", \"relevante\": 0},\n",
    "    {\"id\": 12, \"text\": \"O desenvolvimento de modelos de IA generativa exige grandes recursos computacionais e investimento.\", \"relevante\": 0},\n",
    "    {\"id\": 13, \"text\": \"Impactos econômicos da IA generativa incluem redução de custos operacionais e aumento da produtividade.\", \"relevante\": 0},\n",
    "    {\"id\": 14, \"text\": \"A inteligência artificial pode ser usada para prever padrões de comportamento de consumidores em diversos setores.\", \"relevante\": 0},\n",
    "    {\"id\": 15, \"text\": \"O uso de IA generativa na criação de música é uma das fronteiras mais recentes da tecnologia.\", \"relevante\": 0},\n",
    "    {\"id\": 16, \"text\": \"Desafios técnicos incluem controle das saídas e alinhamento com objetivos humanos.\", \"relevante\": 0},\n",
    "    {\"id\": 17, \"text\": \"O aumento da produtividade em fábricas devido ao uso de IA é uma tendência crescente.\", \"relevante\": 0},\n",
    "    {\"id\": 18, \"text\": \"Existem questões jurídicas em relação ao uso de IA generativa, como a autoria de conteúdos gerados.\", \"relevante\": 0},\n",
    "    {\"id\": 19, \"text\": \"O impacto da IA generativa é significativo na criação de conteúdos audiovisuais para marketing.\", \"relevante\": 1},\n",
    "    {\"id\": 20, \"text\": \"Robôs assistentes pessoais são uma inovação crescente em domicílios modernos.\", \"relevante\": 0}\n",
    "  ]\n",
    "}\n",
    ",\n",
    "    {\n",
    "    \"query\": \"Quais são os impactos das mudanças climáticas no meio ambiente?\",\n",
    "    \"passages\": [\n",
    "        {\"id\": 1, \"text\": \"Mudanças climáticas resultam em eventos climáticos extremos e perda de biodiversidade.\", \"relevante\": 1},\n",
    "        {\"id\": 2, \"text\": \"As emissões de carbono de indústrias aumentam o aquecimento global.\", \"relevante\": 1},\n",
    "        {\"id\": 3, \"text\": \"O desmatamento contribui para o aumento das emissões de gases do efeito estufa.\", \"relevante\": 1},\n",
    "        {\"id\": 4, \"text\": \"Mudanças climáticas podem afetar a agricultura, com secas prolongadas e redução das colheitas.\", \"relevante\": 1},\n",
    "        {\"id\": 5, \"text\": \"O aumento do nível do mar ameaça várias cidades costeiras ao redor do mundo.\", \"relevante\": 1},\n",
    "        {\"id\": 6, \"text\": \"A IA generativa pode criar deepfakes e conteúdos inovadores.\", \"relevante\": 0},\n",
    "        {\"id\": 7, \"text\": \"A exploração espacial ajuda no desenvolvimento de novas tecnologias.\", \"relevante\": 0},\n",
    "        {\"id\": 8, \"text\": \"Aquecimento global contribui para o derretimento das calotas polares.\", \"relevante\": 0},\n",
    "        {\"id\": 9, \"text\": \"A preservação da natureza é essencial para combater as mudanças climáticas.\", \"relevante\": 0},\n",
    "        {\"id\": 10, \"text\": \"Aquecimento global pode causar escassez de água em várias regiões do mundo.\", \"relevante\": 0},\n",
    "        {\"id\": 11, \"text\": \"O aumento da temperatura global é uma das causas para o derretimento das geleiras.\", \"relevante\": 0},\n",
    "        {\"id\": 12, \"text\": \"Mudanças no uso do solo têm um grande impacto no meio ambiente.\", \"relevante\": 0},\n",
    "        {\"id\": 13, \"text\": \"Desastres naturais como terremotos não têm relação direta com as mudanças climáticas.\", \"relevante\": 0},\n",
    "        {\"id\": 14, \"text\": \"O desenvolvimento de novas energias renováveis pode ajudar a mitigar os impactos das mudanças climáticas.\", \"relevante\": 0},\n",
    "        {\"id\": 15, \"text\": \"O aumento da poluição também afeta os ecossistemas e contribui para o aquecimento global.\", \"relevante\": 0},\n",
    "        {\"id\": 16, \"text\": \"A evolução da medicina tem impactado positivamente a qualidade de vida das pessoas.\", \"relevante\": 0},\n",
    "        {\"id\": 17, \"text\": \"O impacto do turismo sobre o meio ambiente é um tema de grande discussão atualmente.\", \"relevante\": 0},\n",
    "        {\"id\": 18, \"text\": \"A tecnologia tem sido fundamental para o desenvolvimento de novas formas de combate às mudanças climáticas.\", \"relevante\": 0},\n",
    "        {\"id\": 19, \"text\": \"A vida marinha está sendo seriamente afetada pela acidificação dos oceanos devido às mudanças climáticas.\", \"relevante\": 0},\n",
    "        {\"id\": 20, \"text\": \"Aquecimento global é causado pela queima de combustíveis fósseis e desmatamento.\", \"relevante\": 0}\n",
    "    ]\n",
    "}\n",
    "\n",
    ",\n",
    "    {\n",
    "    \"query\": \"Quais são os avanços recentes na exploração espacial?\",\n",
    "    \"passages\": [\n",
    "        {\"id\": 1, \"text\": \"Missões para Marte têm aumentado o conhecimento sobre o planeta.\", \"relevante\": 1},\n",
    "        {\"id\": 2, \"text\": \"Novas tecnologias aplicadas na construção de estações espaciais.\", \"relevante\": 1},\n",
    "        {\"id\": 3, \"text\": \"Exploração espacial pode ajudar na mineração de asteroides.\", \"relevante\": 1},\n",
    "        {\"id\": 4, \"text\": \"Desenvolvimento de novas naves espaciais para missões tripuladas à Lua e Marte.\", \"relevante\": 1},\n",
    "        {\"id\": 5, \"text\": \"Tecnologias de propulsão avançada estão sendo desenvolvidas para missões espaciais de longa duração.\", \"relevante\": 1},\n",
    "        {\"id\": 6, \"text\": \"IA generativa é usada em dublagem e criação de textos.\", \"relevante\": 0},\n",
    "        {\"id\": 7, \"text\": \"O aumento do turismo espacial está gerando novas oportunidades econômicas.\", \"relevante\": 0},\n",
    "        {\"id\": 8, \"text\": \"Aquecimento global afeta os ecossistemas marinhos e terrestres.\", \"relevante\": 0},\n",
    "        {\"id\": 9, \"text\": \"O uso de satélites para monitoramento climático tem avançado significativamente.\", \"relevante\": 0},\n",
    "        {\"id\": 10, \"text\": \"Exploração de novos planetas fora do sistema solar ainda está em fase preliminar.\", \"relevante\": 0},\n",
    "        {\"id\": 11, \"text\": \"A pesquisa sobre buracos negros e fenômenos astrofísicos está em expansão.\", \"relevante\": 0},\n",
    "        {\"id\": 12, \"text\": \"Os avanços na medicina têm contribuído para missões espaciais mais longas e seguras.\", \"relevante\": 0},\n",
    "        {\"id\": 13, \"text\": \"Exploração de asteroides em busca de recursos minerais é um campo emergente.\", \"relevante\": 0},\n",
    "        {\"id\": 14, \"text\": \"A colaboração internacional em missões espaciais está se expandindo a cada ano.\", \"relevante\": 0},\n",
    "        {\"id\": 15, \"text\": \"A nova geração de telescópios espaciais oferece imagens mais detalhadas do universo.\", \"relevante\": 0},\n",
    "        {\"id\": 16, \"text\": \"O avanço da computação quântica tem sido um fator importante para a exploração espacial.\", \"relevante\": 0},\n",
    "        {\"id\": 17, \"text\": \"O impacto das mudanças climáticas no espaço ainda é um campo pouco explorado.\", \"relevante\": 0},\n",
    "        {\"id\": 18, \"text\": \"A tecnologia 5G permitirá avanços na comunicação durante missões espaciais.\", \"relevante\": 0},\n",
    "        {\"id\": 19, \"text\": \"O uso de drones para exploração de planetas distantes está sendo estudado.\", \"relevante\": 0},\n",
    "        {\"id\": 20, \"text\": \"A pesquisa sobre vida extraterrestre é um dos objetivos das missões espaciais.\", \"relevante\": 0}\n",
    "    ]\n",
    "}\n",
    ",\n",
    "    {\n",
    "    \"query\": \"Como a IA está transformando a área da saúde?\",\n",
    "    \"passages\": [\n",
    "        {\"id\": 1, \"text\": \"IA é usada para diagnósticos médicos e simulações de medicamentos.\", \"relevante\": 1},\n",
    "        {\"id\": 2, \"text\": \"Modelos de IA ajudam na personalização de tratamentos médicos.\", \"relevante\": 1},\n",
    "        {\"id\": 3, \"text\": \"IA auxilia no monitoramento remoto de pacientes.\", \"relevante\": 1},\n",
    "        {\"id\": 4, \"text\": \"IA é aplicada no desenvolvimento de novos medicamentos através de simulações computacionais.\", \"relevante\": 1},\n",
    "        {\"id\": 5, \"text\": \"Sistemas de IA são usados em hospitais para gerenciar dados de pacientes e otimizar tratamentos.\", \"relevante\": 1},\n",
    "        {\"id\": 6, \"text\": \"Deepfakes gerados por IA podem ser uma ameaça à privacidade.\", \"relevante\": 0},\n",
    "        {\"id\": 7, \"text\": \"Aquecimento global resulta na mudança de padrões climáticos ao redor do mundo.\", \"relevante\": 0},\n",
    "        {\"id\": 8, \"text\": \"O uso de IA na educação está revolucionando o ensino personalizado.\", \"relevante\": 0},\n",
    "        {\"id\": 9, \"text\": \"Exploração de Marte está levando a avanços na tecnologia de IA para o ambiente espacial.\", \"relevante\": 0},\n",
    "        {\"id\": 10, \"text\": \"Avanços em biotecnologia têm impactado diretamente a medicina moderna.\", \"relevante\": 0},\n",
    "        {\"id\": 11, \"text\": \"A IA pode ajudar na detecção precoce de doenças, aumentando as taxas de cura.\", \"relevante\": 0},\n",
    "        {\"id\": 12, \"text\": \"A utilização de IA para triagem de pacientes está sendo testada em vários hospitais.\", \"relevante\": 0},\n",
    "        {\"id\": 13, \"text\": \"IA está transformando a agricultura ao melhorar a produtividade e a sustentabilidade.\", \"relevante\": 0},\n",
    "        {\"id\": 14, \"text\": \"Tecnologias de IA permitem avanços na indústria automobilística, como carros autônomos.\", \"relevante\": 0},\n",
    "        {\"id\": 15, \"text\": \"O uso de IA para otimizar as operações logísticas tem sido cada vez mais comum.\", \"relevante\": 0},\n",
    "        {\"id\": 16, \"text\": \"Modelos preditivos baseados em IA podem ser aplicados em diversas áreas, como finanças e saúde.\", \"relevante\": 0},\n",
    "        {\"id\": 17, \"text\": \"O impacto da IA no mercado de trabalho está sendo debatido globalmente.\", \"relevante\": 0},\n",
    "        {\"id\": 18, \"text\": \"Os benefícios da IA para a indústria de entretenimento incluem a criação de conteúdos personalizados.\", \"relevante\": 0},\n",
    "        {\"id\": 19, \"text\": \"A IA está sendo explorada para melhorar a segurança no setor financeiro.\", \"relevante\": 0},\n",
    "        {\"id\": 20, \"text\": \"A IA tem sido fundamental para a evolução dos sistemas de inteligência policial.\", \"relevante\": 0}\n",
    "    ]\n",
    "}\n",
    ",\n",
    "    {\n",
    "    \"query\": \"Qual é o impacto do uso de IA na indústria de entretenimento?\",\n",
    "    \"passages\": [\n",
    "        {\"id\": 1, \"text\": \"IA cria conteúdos como roteiros e efeitos visuais em filmes.\", \"relevante\": 1},\n",
    "        {\"id\": 2, \"text\": \"Personalização de playlists e recomendações em plataformas de streaming.\", \"relevante\": 1},\n",
    "        {\"id\": 3, \"text\": \"IA ajuda na análise de dados para criar experiências imersivas.\", \"relevante\": 1},\n",
    "        {\"id\": 4, \"text\": \"O uso de IA em jogos permite a criação de personagens e ambientes mais realistas.\", \"relevante\": 1},\n",
    "        {\"id\": 5, \"text\": \"Plataformas de streaming utilizam IA para recomendar filmes e músicas com base no gosto do usuário.\", \"relevante\": 1},\n",
    "        {\"id\": 6, \"text\": \"O aquecimento global está causando derretimento de calotas polares.\", \"relevante\": 0},\n",
    "        {\"id\": 7, \"text\": \"A IA está transformando a indústria automotiva com carros autônomos.\", \"relevante\": 0},\n",
    "        {\"id\": 8, \"text\": \"Avanços tecnológicos em medicina estão impactando diretamente os tratamentos de saúde.\", \"relevante\": 0},\n",
    "        {\"id\": 9, \"text\": \"A IA é usada para personalizar anúncios e estratégias de marketing digital.\", \"relevante\": 0},\n",
    "        {\"id\": 10, \"text\": \"Exploração espacial avança com novas missões para outros planetas.\", \"relevante\": 0},\n",
    "        {\"id\": 11, \"text\": \"A utilização de IA em carros autônomos promete melhorar a segurança no trânsito.\", \"relevante\": 0},\n",
    "        {\"id\": 12, \"text\": \"A IA pode ser usada para otimizar processos logísticos em grandes empresas.\", \"relevante\": 0},\n",
    "        {\"id\": 13, \"text\": \"Tecnologias de IA são cada vez mais usadas para o reconhecimento de padrões em dados financeiros.\", \"relevante\": 0},\n",
    "        {\"id\": 14, \"text\": \"A IA tem sido aplicada no setor de segurança, ajudando na vigilância e detecção de crimes.\", \"relevante\": 0},\n",
    "        {\"id\": 15, \"text\": \"A IA também é usada para melhorar a eficiência na produção de energia e no setor industrial.\", \"relevante\": 0},\n",
    "        {\"id\": 16, \"text\": \"Modelos de IA estão sendo empregados em vários campos da educação para personalizar o aprendizado.\", \"relevante\": 0},\n",
    "        {\"id\": 17, \"text\": \"A IA tem um papel crescente em plataformas de e-commerce, ajudando a criar experiências personalizadas para os consumidores.\", \"relevante\": 0},\n",
    "        {\"id\": 18, \"text\": \"Sistemas de IA são utilizados para otimizar a gestão de resíduos e melhorar a sustentabilidade ambiental.\", \"relevante\": 0},\n",
    "        {\"id\": 19, \"text\": \"O impacto da IA no mercado de trabalho é tema de muitos debates atualmente.\", \"relevante\": 0},\n",
    "        {\"id\": 20, \"text\": \"A IA pode ser usada para criar simulações e experiências de realidade aumentada em jogos e filmes.\", \"relevante\": 0}\n",
    "    ]\n",
    "}\n",
    "\n",
    "]\n"
   ]
  },
  {
   "cell_type": "code",
   "execution_count": 20,
   "metadata": {},
   "outputs": [],
   "source": [
    "def precision_at_k(results, k):\n",
    "    \"\"\"\n",
    "    Calcula a Precision@k de um modelo de reranking.\n",
    "    \n",
    "    :param results: lista de resultados do modelo, onde cada resultado é um dicionário com as chaves 'id', 'text', 'relevante', e 'score'.\n",
    "    :param k: o número de documentos a considerar para calcular Precision@k.\n",
    "    :return: a Precision@k, que é a fração de documentos relevantes nos k primeiros resultados.\n",
    "    \"\"\"\n",
    "    # Ordena os resultados pela pontuação (score), do maior para o menor\n",
    "    sorted_results = sorted(results, key=lambda x: x['score'], reverse=True)\n",
    "    \n",
    "    # Seleciona os k primeiros resultados\n",
    "    top_k_results = sorted_results[:k]\n",
    "    \n",
    "    # Conta quantos dos k primeiros são relevantes\n",
    "    relevant_count = sum([1 for result in top_k_results if result['relevante'] == 1])\n",
    "    \n",
    "    # Calcula Precision@k\n",
    "    precision_k = relevant_count / k\n",
    "    return precision_k"
   ]
  },
  {
   "cell_type": "code",
   "execution_count": 23,
   "metadata": {},
   "outputs": [],
   "source": [
    "def recall_at_k(results, k):\n",
    "    \"\"\"\n",
    "    Calcula o Recall@k de um modelo de reranking.\n",
    "    \n",
    "    :param results: lista de resultados do modelo, onde cada resultado é um dicionário com as chaves 'id', 'text', 'relevante', e 'score'.\n",
    "    :param relevant_docs: lista de ids dos documentos relevantes no conjunto completo.\n",
    "    :param k: o número de documentos a considerar para calcular Recall@k.\n",
    "    :return: o Recall@k, que é a fração de documentos relevantes recuperados nos k primeiros resultados.\n",
    "    \"\"\"\n",
    "    # Ordena os resultados pela pontuação (score), do maior para o menor\n",
    "    sorted_results = sorted(results, key=lambda x: x['score'], reverse=True)\n",
    "    \n",
    "    # Seleciona os k primeiros resultados\n",
    "    top_k_results = sorted_results[:k]\n",
    "    \n",
    "    # Conta quantos dos k primeiros são relevantes\n",
    "    retrieved_relevant_count = sum([1 for result in top_k_results if result['relevante'] == 1])\n",
    "    \n",
    "    # Total de documentos relevantes no conjunto\n",
    "    total_relevant_docs = len([result for result in results if result['relevante'] == 1])\n",
    "    \n",
    "    # Calcula Recall@k\n",
    "    recall_k = retrieved_relevant_count / total_relevant_docs if total_relevant_docs > 0 else 0\n",
    "    return recall_k\n"
   ]
  },
  {
   "cell_type": "code",
   "execution_count": 25,
   "metadata": {},
   "outputs": [
    {
     "name": "stdout",
     "output_type": "stream",
     "text": [
      "Precision@5: 0.4\n"
     ]
    }
   ],
   "source": [
    "k = 5\n",
    "precision = precision_at_k(results, k)\n",
    "print(f\"Precision@{k}: {precision}\")"
   ]
  },
  {
   "cell_type": "code",
   "execution_count": 24,
   "metadata": {},
   "outputs": [
    {
     "name": "stdout",
     "output_type": "stream",
     "text": [
      "Recall@5: 0.3333333333333333\n"
     ]
    }
   ],
   "source": [
    "k = 5\n",
    "recall = recall_at_k(results, k)\n",
    "print(f\"Recall@{k}: {recall}\")"
   ]
  },
  {
   "cell_type": "code",
   "execution_count": 26,
   "metadata": {},
   "outputs": [],
   "source": [
    "rankers = [\n",
    "    {\"name\": \"Ranker(max_length=128)\", \"instance\": Ranker(max_length=128)},\n",
    "    {\"name\": \"Ranker(model_name='ms-marco-MiniLM-L-12-v2')\", \"instance\": Ranker(model_name=\"ms-marco-MiniLM-L-12-v2\")},\n",
    "    {\"name\": \"Ranker(model_name='rank-T5-flan')\", \"instance\": Ranker(model_name=\"rank-T5-flan\")},\n",
    "    {\"name\": \"Ranker(model_name='ms-marco-MultiBERT-L-12')\", \"instance\": Ranker(model_name=\"ms-marco-MultiBERT-L-12\")},\n",
    "]"
   ]
  },
  {
   "cell_type": "code",
   "execution_count": null,
   "metadata": {},
   "outputs": [
    {
     "name": "stdout",
     "output_type": "stream",
     "text": [
      "                                          Modelo  ...  Recall Média\n",
      "0                         Ranker(max_length=128)  ...      0.153333\n",
      "1                         Ranker(max_length=128)  ...      0.266667\n",
      "2                         Ranker(max_length=128)  ...      0.373333\n",
      "3                         Ranker(max_length=128)  ...      0.406667\n",
      "4   Ranker(model_name='ms-marco-MiniLM-L-12-v2')  ...      0.146667\n",
      "5   Ranker(model_name='ms-marco-MiniLM-L-12-v2')  ...      0.220000\n",
      "6   Ranker(model_name='ms-marco-MiniLM-L-12-v2')  ...      0.300000\n",
      "7   Ranker(model_name='ms-marco-MiniLM-L-12-v2')  ...      0.373333\n",
      "12  Ranker(model_name='ms-marco-MultiBERT-L-12')  ...      0.186667\n",
      "13  Ranker(model_name='ms-marco-MultiBERT-L-12')  ...      0.266667\n",
      "14  Ranker(model_name='ms-marco-MultiBERT-L-12')  ...      0.380000\n",
      "15  Ranker(model_name='ms-marco-MultiBERT-L-12')  ...      0.453333\n",
      "8              Ranker(model_name='rank-T5-flan')  ...      0.080000\n",
      "9              Ranker(model_name='rank-T5-flan')  ...      0.233333\n",
      "10             Ranker(model_name='rank-T5-flan')  ...      0.346667\n",
      "11             Ranker(model_name='rank-T5-flan')  ...      0.500000\n",
      "\n",
      "[16 rows x 5 columns]\n"
     ]
    }
   ],
   "source": [
    "# Inicializa a lista para armazenar os resultados finais\n",
    "overall_results = []\n",
    "\n",
    "# Define os valores de k para calcular as métricas\n",
    "k_values = [3, 5, 8, 10]\n",
    "\n",
    "# Itera sobre os modelos\n",
    "for ranker in rankers:\n",
    "    model_results = []\n",
    "    \n",
    "    # Itera sobre as queries\n",
    "    for query_data in queries:\n",
    "        query_text = query_data[\"query\"]\n",
    "        passages = query_data[\"passages\"]\n",
    "        \n",
    "        start_time = time.time()\n",
    "        \n",
    "        # Realiza o reranking para o modelo atual\n",
    "        rerank_request = RerankRequest(query=query_text, passages=passages)\n",
    "        output = ranker[\"instance\"].rerank(rerank_request)\n",
    "        \n",
    "        end_time = time.time()\n",
    "        execution_time = end_time - start_time\n",
    "        \n",
    "        # Itera sobre os valores de k\n",
    "        for k in k_values:\n",
    "            precision = precision_at_k(output, k)\n",
    "            recall = recall_at_k(output, k)\n",
    "            \n",
    "            # Armazena os resultados desta query\n",
    "            model_results.append({\n",
    "                \"Modelo\": ranker[\"name\"],\n",
    "                \"Query\": query_text,\n",
    "                \"k\": k,\n",
    "                \"Tempo de Execução (segundos)\": execution_time,\n",
    "                \"Precision@k\": precision,\n",
    "                \"Recall@k\": recall\n",
    "            })\n",
    "    \n",
    "    # Após calcular para todas as queries, calcula as médias por k\n",
    "    for k in k_values:\n",
    "        precision_avg = np.mean([res[\"Precision@k\"] for res in model_results if res[\"k\"] == k])\n",
    "        recall_avg = np.mean([res[\"Recall@k\"] for res in model_results if res[\"k\"] == k])\n",
    "        \n",
    "        overall_results.append({\n",
    "            \"Modelo\": ranker[\"name\"],\n",
    "            \"k\": k,\n",
    "            \"Tempo Médio de Execução (segundos)\": np.mean([res[\"Tempo de Execução (segundos)\"] for res in model_results if res[\"k\"] == k]),\n",
    "            \"Precision Média\": precision_avg,\n",
    "            \"Recall Média\": recall_avg\n",
    "        })\n",
    "\n",
    "# Converte os resultados para um DataFrame do Pandas\n",
    "df_overall_results = pd.DataFrame(overall_results)\n",
    "\n",
    "# Exibe os resultados\n",
    "df_sorted = df_overall_results.sort_values(by=[\"Modelo\", \"k\"], ascending=[True, True])\n",
    "\n"
   ]
  },
  {
   "cell_type": "code",
   "execution_count": 39,
   "metadata": {},
   "outputs": [
    {
     "name": "stdout",
     "output_type": "stream",
     "text": [
      "                                          Modelo   k  Tempo Médio de Execução (segundos)  Precision Média  Recall Média\n",
      "11             Ranker(model_name='rank-T5-flan')  10                            0.987416         0.260000      0.500000\n",
      "15  Ranker(model_name='ms-marco-MultiBERT-L-12')  10                            0.767765         0.240000      0.453333\n",
      "3                         Ranker(max_length=128)  10                            0.013757         0.220000      0.406667\n",
      "14  Ranker(model_name='ms-marco-MultiBERT-L-12')   8                            0.767765         0.250000      0.380000\n",
      "2                         Ranker(max_length=128)   8                            0.013757         0.250000      0.373333\n",
      "7   Ranker(model_name='ms-marco-MiniLM-L-12-v2')  10                            0.268538         0.200000      0.373333\n",
      "10             Ranker(model_name='rank-T5-flan')   8                            0.987416         0.225000      0.346667\n",
      "6   Ranker(model_name='ms-marco-MiniLM-L-12-v2')   8                            0.268538         0.200000      0.300000\n",
      "1                         Ranker(max_length=128)   5                            0.013757         0.280000      0.266667\n",
      "13  Ranker(model_name='ms-marco-MultiBERT-L-12')   5                            0.767765         0.280000      0.266667\n",
      "9              Ranker(model_name='rank-T5-flan')   5                            0.987416         0.240000      0.233333\n",
      "5   Ranker(model_name='ms-marco-MiniLM-L-12-v2')   5                            0.268538         0.240000      0.220000\n",
      "12  Ranker(model_name='ms-marco-MultiBERT-L-12')   3                            0.767765         0.333333      0.186667\n",
      "0                         Ranker(max_length=128)   3                            0.013757         0.266667      0.153333\n",
      "4   Ranker(model_name='ms-marco-MiniLM-L-12-v2')   3                            0.268538         0.266667      0.146667\n",
      "8              Ranker(model_name='rank-T5-flan')   3                            0.987416         0.133333      0.080000\n"
     ]
    }
   ],
   "source": [
    "print(df_sorted.sort_values(by=\"Recall Média\", ascending=False))"
   ]
  },
  {
   "cell_type": "code",
   "execution_count": null,
   "metadata": {},
   "outputs": [],
   "source": []
  }
 ],
 "metadata": {
  "kernelspec": {
   "display_name": "env_gen_ai",
   "language": "python",
   "name": "python3"
  },
  "language_info": {
   "codemirror_mode": {
    "name": "ipython",
    "version": 3
   },
   "file_extension": ".py",
   "mimetype": "text/x-python",
   "name": "python",
   "nbconvert_exporter": "python",
   "pygments_lexer": "ipython3",
   "version": "3.10.14"
  }
 },
 "nbformat": 4,
 "nbformat_minor": 2
}
