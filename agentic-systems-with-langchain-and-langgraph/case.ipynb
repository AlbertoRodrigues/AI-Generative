{
 "cells": [
  {
   "cell_type": "markdown",
   "metadata": {},
   "source": [
    "Projeto: Assistente de Pesquisa Multitópico\n",
    "\n",
    "Descrição Geral:\n",
    "Crie um assistente virtual que auxilia pesquisadores a encontrar, resumir e organizar informações sobre diferentes tópicos, coordenando múltiplos agentes especializados em áreas distintas. O sistema permitirá consultas avançadas e a integração de várias fontes de dados, como artigos científicos, blogs, notícias e fóruns.\n",
    "\n",
    "Etapas do Projeto:\n",
    "1. Definição dos Objetivos\n",
    "\n",
    "    Facilitar a busca de informações confiáveis em áreas específicas.\n",
    "    Resumir conteúdo longo em trechos curtos e compreensíveis.\n",
    "    Fornecer um painel de visualização que organiza as informações encontradas por relevância.\n",
    "\n",
    "2. Estruturação do Sistema\n",
    "\n",
    "Utilize o LangGraph para criar agentes com as seguintes responsabilidades:\n",
    "\n",
    "    Agente Coletor: Faz a busca inicial nas fontes de dados especificadas.\n",
    "    Agente Resumidor: Condensa textos longos em resumos relevantes.\n",
    "    Agente Organizador: Classifica e organiza os dados coletados por relevância ou área de conhecimento.\n",
    "    Agente Analítico: Gera insights, como estatísticas ou gráficos, a partir dos dados coletados.\n",
    "\n",
    "3. Fluxo de Trabalho\n",
    "\n",
    "O fluxo do LangGraph pode ser configurado da seguinte forma:\n",
    "\n",
    "    Entrada do Usuário: O usuário insere a consulta.\n",
    "    Distribuição da Tarefa: A consulta é distribuída para diferentes agentes com base nos tópicos.\n",
    "    Processamento dos Dados: Cada agente realiza sua tarefa e retorna o resultado ao nó central.\n",
    "    Apresentação Final: O sistema organiza as informações e apresenta ao usuário em uma interface amigável.\n",
    "\n",
    "4. Tecnologias Adicionais\n",
    "\n",
    "    Integrações com APIs: Utilize APIs como arXiv, Semantic Scholar, Google Scholar ou OpenAI para fontes científicas.\n",
    "    Frontend: Crie uma interface visual usando frameworks como React ou Dash.\n",
    "    Backend: Use Python (FastAPI ou Flask) para coordenar as chamadas entre agentes e exibir os resultados.\n",
    "\n",
    "Exemplo de Aplicação:\n",
    "O usuário faz a seguinte pergunta:\n",
    "\"Quais são os avanços mais recentes em baterias de lítio para carros elétricos?\"\n",
    "\n",
    "Resposta do Sistema:\n",
    "\n",
    "    Resumo de artigos científicos (10 linhas por documento).\n",
    "    Gráfico de tendências tecnológicas baseado em palavras-chave.\n",
    "    Lista de fontes confiáveis com links para leitura aprofundada."
   ]
  },
  {
   "cell_type": "code",
   "execution_count": 15,
   "metadata": {},
   "outputs": [
    {
     "data": {
      "text/plain": [
       "True"
      ]
     },
     "execution_count": 15,
     "metadata": {},
     "output_type": "execute_result"
    }
   ],
   "source": [
    "from IPython.display import  Image, display\n",
    "from langchain_openai import ChatOpenAI\n",
    "from typing import Annotated\n",
    "from typing_extensions import TypedDict\n",
    "from langgraph.graph import StateGraph, START, END\n",
    "from langgraph.graph.message import add_messages\n",
    "from langchain_community.utilities import WikipediaAPIWrapper \n",
    "from langchain_community.tools import WikipediaQueryRun\n",
    "from langgraph.prebuilt import create_react_agent  \n",
    "from dotenv import load_dotenv\n",
    "from IPython.display import  Image, display\n",
    "import os\n",
    "load_dotenv()"
   ]
  },
  {
   "cell_type": "code",
   "execution_count": 4,
   "metadata": {},
   "outputs": [],
   "source": [
    "# LLM Setup \n",
    "model = ChatOpenAI(openai_api_key=os.getenv('OPENAI_API_KEY'), model=\"gpt-4o-mini-2024-07-18\")"
   ]
  },
  {
   "cell_type": "code",
   "execution_count": 5,
   "metadata": {},
   "outputs": [],
   "source": [
    "# Define the State\n",
    "class State(TypedDict):\n",
    "    \n",
    "    # Define messages with metadata\n",
    "    messages: Annotated[list, add_messages]"
   ]
  },
  {
   "cell_type": "code",
   "execution_count": 7,
   "metadata": {},
   "outputs": [],
   "source": [
    "# Initialize Wikipedia API wrapper to fetch top 1 result \n",
    "api_wrapper = WikipediaAPIWrapper(top_k_results=1)    \n",
    "# Create a Wikipedia query tool using the API wrapper \n",
    "wikipedia_tool = WikipediaQueryRun(api_wrapper=api_wrapper)  \n",
    "tools = [wikipedia_tool]"
   ]
  },
  {
   "cell_type": "code",
   "execution_count": 8,
   "metadata": {},
   "outputs": [],
   "source": [
    "model_with_tools = model.bind_tools(tools)"
   ]
  },
  {
   "cell_type": "code",
   "execution_count": 18,
   "metadata": {},
   "outputs": [],
   "source": [
    "def search_agent(state: State):\n",
    "    return {\"messages\": [model.invoke(state[\"messages\"])]}"
   ]
  },
  {
   "cell_type": "code",
   "execution_count": 19,
   "metadata": {},
   "outputs": [],
   "source": [
    "# Initialize StateGraph\n",
    "graph_builder = StateGraph(State)\n",
    "\n",
    "# Add chatbot node to the graph\n",
    "graph_builder.add_node(\"Search Agent\", search_agent)\n",
    "\n",
    "# Define the start and end of the conversation flow\n",
    "graph_builder.add_edge(START, \"Search Agent\")\n",
    "graph_builder.add_edge(\"Search Agent\", END)\n",
    "\n",
    "# Compile the graph to prepare for execution\n",
    "graph = graph_builder.compile()"
   ]
  },
  {
   "cell_type": "code",
   "execution_count": 16,
   "metadata": {},
   "outputs": [
    {
     "data": {
      "image/png": "[encoded data removed]",
      "text/plain": [
       "<IPython.core.display.Image object>"
      ]
     },
     "metadata": {},
     "output_type": "display_data"
    }
   ],
   "source": [
    "display(Image(graph.get_graph().draw_mermaid_png()))"
   ]
  },
  {
   "cell_type": "code",
   "execution_count": 27,
   "metadata": {},
   "outputs": [],
   "source": [
    "# Define a function to execute the chatbot based on user input\n",
    "def stream_graph_updates(user_input: str):\n",
    "    \n",
    "    # Start streaming events from the graph with the user's input\n",
    "    for event in graph.stream({\"messages\": [(\"user\", user_input)]}):\n",
    "        \n",
    "        # Retrieve and print the chatbot node responses\n",
    "        for item in event.values():\n",
    "            print(\"Agent:\", item[\"messages\"][0].content)"
   ]
  },
  {
   "cell_type": "code",
   "execution_count": 28,
   "metadata": {},
   "outputs": [
    {
     "name": "stdout",
     "output_type": "stream",
     "text": [
      "Agent: Até outubro de 2023, algumas das maiores e mais recentes descobertas e avanços em inteligência artificial generativa incluem:\n",
      "\n",
      "1. **Modelos de Linguagem Avançados**: Modelos como o GPT-4 e outros desenvolvimentos de modelos de linguagem têm mostrado capacidades impressionantes em geração de texto, compreensão de contexto e realização de tarefas complexas de linguagem natural.\n",
      "\n",
      "2. **Multimodalidade**: Avanços em modelos que podem processar e gerar dados em diferentes formatos (texto, imagem, áudio) têm se tornado cada vez mais comuns. Exemplos incluem modelos como DALL-E e CLIP, que combinam texto e imagens para criar conteúdo visual a partir de descrições textuais.\n",
      "\n",
      "3. **Aprimoramento de Ferramentas Criativas**: Ferramentas de IA generativa estão se tornando populares em áreas criativas, como arte, música e design. Esses modelos auxiliam artistas e criadores a explorar novas ideias e acelerar o processo criativo.\n",
      "\n",
      "4. **Controle e Personalização**: Pesquisas têm se concentrado em melhorar o controle sobre a saída gerada por IA, permitindo que os usuários personalizem o estilo e o conteúdo com maior precisão. Isso inclui a capacidade de ajustar o tom, a formalidade e outros aspectos da geração de texto.\n",
      "\n",
      "5. **Ética e Responsabilidade**: Com o aumento da utilização da IA generativa, questões éticas têm ganhado destaque, como a desinformação, a propriedade intelectual e o uso responsável da tecnologia. Pesquisas estão sendo realizadas para desenvolver diretrizes e frameworks que abordem esses desafios.\n",
      "\n",
      "6. **Interação em Tempo Real**: A capacidade de interagir com modelos de IA generativa em tempo real, permitindo conversas dinâmicas e interativas, tem avançado significativamente. Isso é aplicado em assistentes virtuais, chatbots e outras interfaces de usuário.\n",
      "\n",
      "7. **Automatização de Tarefas**: A IA generativa está sendo usada para automatizar tarefas em setores como atendimento ao cliente, marketing e produção de conteúdo, aumentando a eficiência e reduzindo custos.\n",
      "\n",
      "Esses avanços destacam o potencial transformador da IA generativa em diversas áreas, além de enfatizar a necessidade de um debate contínuo sobre suas implicações éticas e sociais.\n"
     ]
    }
   ],
   "source": [
    "stream_graph_updates(\"Quais são os maiores e mais recentes descobertas sobre ia generativa\")"
   ]
  },
  {
   "cell_type": "code",
   "execution_count": null,
   "metadata": {},
   "outputs": [],
   "source": []
  },
  {
   "cell_type": "code",
   "execution_count": null,
   "metadata": {},
   "outputs": [],
   "source": []
  },
  {
   "cell_type": "code",
   "execution_count": null,
   "metadata": {},
   "outputs": [],
   "source": []
  },
  {
   "cell_type": "code",
   "execution_count": null,
   "metadata": {},
   "outputs": [],
   "source": []
  },
  {
   "cell_type": "code",
   "execution_count": null,
   "metadata": {},
   "outputs": [],
   "source": []
  }
 ],
 "metadata": {
  "kernelspec": {
   "display_name": "env_gen_ai",
   "language": "python",
   "name": "python3"
  },
  "language_info": {
   "codemirror_mode": {
    "name": "ipython",
    "version": 3
   },
   "file_extension": ".py",
   "mimetype": "text/x-python",
   "name": "python",
   "nbconvert_exporter": "python",
   "pygments_lexer": "ipython3",
   "version": "3.10.14"
  }
 },
 "nbformat": 4,
 "nbformat_minor": 2
}
