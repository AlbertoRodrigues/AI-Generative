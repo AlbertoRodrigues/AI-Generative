{
 "cells": [
  {
   "cell_type": "code",
   "execution_count": 2,
   "metadata": {},
   "outputs": [],
   "source": [
    "from fpdf import FPDF"
   ]
  },
  {
   "cell_type": "code",
   "execution_count": 3,
   "metadata": {},
   "outputs": [],
   "source": [
    "# Tentando novamente gerar o PDF\n",
    "# Criando o conteúdo do currículo\n",
    "texto_final = [\n",
    "    \"Alberto Rodrigues Ferreira\",\n",
    "    \"Data Scientist | IA Generativa | Machine Learning\",\n",
    "    \"São Paulo, SP, Brasil\",\n",
    "    \"Telefone: 85 99634-5795 | E-mail: albertor.stats@gmail.com\",\n",
    "    \"LinkedIn: alberto-rodrigues-ferreira\",\n",
    "    \"Resumo Profissional\",\n",
    "    \"Sou cientista de dados com sólida experiência em Python, Ciência de Dados, IA Generativa e Machine Learning. \"\n",
    "    \"Com um mestrado em Estatística pela Universidade de São Paulo, tenho foco em soluções baseadas em pesquisa científica, \"\n",
    "    \"utilizando testes rigorosos para garantir resultados precisos e eficazes. Minha expertise inclui o desenvolvimento e deploy \"\n",
    "    \"de modelos de Machine Learning e a criação de aplicações de IA Generativa, com ênfase em chatbots conversacionais.\",\n",
    "    \"Experiência Profissional\",\n",
    "    \"Itaú Unibanco - São Paulo, SP\",\n",
    "    \"Data Scientist II - Junho de 2023 - Presente\",\n",
    "    \"- Desenvolvimento de chatbot com IA generativa para atendimento mais ágil, reduzindo o tempo de espera.\",\n",
    "    \"- Criação de sistema de recomendação utilizando Streamlit para otimizar a escolha de fornecedores.\",\n",
    "    \"- Estudos avançados sobre indicadores de performance, aumentando a eficiência da equipe.\",\n",
    "    \"- Desenvolvimento de modelo de classificação de riscos, otimizando processos internos.\",\n",
    "    \"Data Scientist I - Abril de 2022 - Junho de 2023\",\n",
    "    \"- Implementação de sistemas de recomendação para startups, melhorando a eficiência de soluções.\",\n",
    "    \"- Desenvolvimento de dashboards para análise de startups, reduzindo o tempo de avaliação.\",\n",
    "    \"- Modelagem de Machine Learning para predição de crescimento acelerado de startups.\",\n",
    "    \"Turing USP - São Paulo, SP\",\n",
    "    \"Pesquisador - Julho de 2021 - Abril de 2022\",\n",
    "    \"- Condução de workshops de Estatística e Programação em R, com mais de 100 participantes.\",\n",
    "    \"- Aplicação de técnicas de deep learning para classificação de imagens, atingindo 92% de acurácia.\",\n",
    "    \"- Análise de dados end-to-end com machine learning, melhorando a precisão preditiva em 15%.\",\n",
    "    \"Gauss UFC - Fortaleza, CE\",\n",
    "    \"Estatístico Júnior - Fevereiro de 2019 - Dezembro de 2019\",\n",
    "    \"- Planejamento estatístico para pesquisa no Departamento de Medicina, aumentando a taxa de respostas em 20%.\",\n",
    "    \"- Modelagem de Machine Learning para alocação de recursos, com aumento de 30% na precisão.\",\n",
    "    \"Formação Acadêmica\",\n",
    "    \"Universidade de São Paulo (USP) - Mestrado em Estatística\",\n",
    "    \"2020 - 2022 | Foco em Modelos não-paramétricos e semi-paramétricos\",\n",
    "    \"Universidade Federal do Ceará (UFC) - Bacharelado em Estatística\",\n",
    "    \"2016 - 2019 | Foco em Modelagem Estatística e Machine Learning\"\n",
    "]\n",
    "\n",
    "\n"
   ]
  },
  {
   "cell_type": "code",
   "execution_count": 4,
   "metadata": {},
   "outputs": [],
   "source": [
    "# Criando o PDF\n",
    "pdf = FPDF()\n",
    "pdf.set_auto_page_break(auto=True, margin=15)\n",
    "pdf.add_page()\n",
    "\n",
    "# Adicionando o conteúdo ao PDF\n",
    "pdf.set_font(\"Arial\", 'B', 16)\n",
    "pdf.cell(200, 10, texto_final[0], ln=True, align=\"C\")\n",
    "pdf.set_font(\"Arial\", '', 12)\n",
    "pdf.cell(200, 10, texto_final[1], ln=True, align=\"C\")\n",
    "pdf.cell(200, 10, texto_final[2], ln=True, align=\"C\")\n",
    "pdf.cell(200, 10, texto_final[3], ln=True, align=\"C\")\n",
    "pdf.cell(200, 10, texto_final[4], ln=True, align=\"C\")\n",
    "pdf.ln(10)\n",
    "\n",
    "pdf.set_font(\"Arial\", 'B', 14)\n",
    "pdf.cell(200, 10, texto_final[5], ln=True)\n",
    "pdf.set_font(\"Arial\", '', 12)\n",
    "pdf.multi_cell(0, 10, texto_final[6])\n",
    "pdf.ln(10)\n",
    "\n",
    "pdf.set_font(\"Arial\", 'B', 14)\n",
    "pdf.cell(200, 10, texto_final[7], ln=True)\n",
    "\n",
    "pdf.set_font(\"Arial\", 'B', 12)\n",
    "pdf.cell(200, 10, texto_final[8], ln=True)\n",
    "pdf.set_font(\"Arial\", 'I', 12)\n",
    "pdf.cell(200, 10, texto_final[9], ln=True)\n",
    "pdf.set_font(\"Arial\", '', 12)\n",
    "for i in range(10, 14):\n",
    "    pdf.multi_cell(0, 10, texto_final[i])\n",
    "pdf.ln(5)\n",
    "\n",
    "pdf.set_font(\"Arial\", 'I', 12)\n",
    "pdf.cell(200, 10, texto_final[14], ln=True)\n",
    "pdf.set_font(\"Arial\", '', 12)\n",
    "for i in range(15, 18):\n",
    "    pdf.multi_cell(0, 10, texto_final[i])\n",
    "pdf.ln(10)\n",
    "\n",
    "pdf.set_font(\"Arial\", 'B', 12)\n",
    "pdf.cell(200, 10, texto_final[18], ln=True)\n",
    "pdf.set_font(\"Arial\", 'I', 12)\n",
    "pdf.cell(200, 10, texto_final[19], ln=True)\n",
    "pdf.set_font(\"Arial\", '', 12)\n",
    "for i in range(20, 23):\n",
    "    pdf.multi_cell(0, 10, texto_final[i])\n",
    "pdf.ln(10)\n",
    "\n",
    "pdf.set_font(\"Arial\", 'B', 12)\n",
    "pdf.cell(200, 10, texto_final[23], ln=True)\n",
    "pdf.set_font(\"Arial\", 'I', 12)\n",
    "pdf.cell(200, 10, texto_final[24], ln=True)\n",
    "pdf.set_font(\"Arial\", '', 12)\n",
    "for i in range(25, 27):\n",
    "    pdf.multi_cell(0, 10, texto_final[i])\n",
    "pdf.ln(10)\n",
    "\n",
    "pdf.set_font(\"Arial\", 'B', 14)\n",
    "pdf.cell(200, 10, texto_final[28], ln=True)\n",
    "\n",
    "pdf.set_font(\"Arial\", 'B', 12)\n",
    "pdf.cell(200, 10, texto_final[29], ln=True)\n",
    "pdf.set_font(\"Arial\", '', 12)\n",
    "pdf.cell(200, 10, texto_final[30], ln=True)\n",
    "\n",
    "# Salvando o arquivo\n"
   ]
  },
  {
   "cell_type": "code",
   "execution_count": 5,
   "metadata": {},
   "outputs": [
    {
     "data": {
      "text/plain": [
       "'Curriculo_Alberto_Rodrigues_Ferreira_Final.pdf'"
      ]
     },
     "execution_count": 5,
     "metadata": {},
     "output_type": "execute_result"
    }
   ],
   "source": [
    "output_path = \"Curriculo_Alberto_Rodrigues_Ferreira_Final.pdf\"\n",
    "pdf.output(output_path)\n",
    "\n",
    "output_path"
   ]
  },
  {
   "cell_type": "code",
   "execution_count": null,
   "metadata": {},
   "outputs": [],
   "source": []
  },
  {
   "cell_type": "code",
   "execution_count": null,
   "metadata": {},
   "outputs": [],
   "source": []
  },
  {
   "cell_type": "code",
   "execution_count": null,
   "metadata": {},
   "outputs": [],
   "source": []
  }
 ],
 "metadata": {
  "kernelspec": {
   "display_name": "env_gen_ai",
   "language": "python",
   "name": "python3"
  },
  "language_info": {
   "codemirror_mode": {
    "name": "ipython",
    "version": 3
   },
   "file_extension": ".py",
   "mimetype": "text/x-python",
   "name": "python",
   "nbconvert_exporter": "python",
   "pygments_lexer": "ipython3",
   "version": "3.10.14"
  }
 },
 "nbformat": 4,
 "nbformat_minor": 2
}
