{
 "cells": [
  {
   "cell_type": "code",
   "execution_count": 4,
   "metadata": {},
   "outputs": [],
   "source": [
    "from openai import OpenAI\n",
    "from dotenv import load_dotenv\n",
    "import os"
   ]
  },
  {
   "cell_type": "code",
   "execution_count": 5,
   "metadata": {},
   "outputs": [],
   "source": [
    "load_dotenv()\n",
    "\n",
    "api_key = os.getenv('OPENAI_API_KEY')\n",
    "client = OpenAI(api_key = api_key)"
   ]
  },
  {
   "cell_type": "markdown",
   "metadata": {},
   "source": [
    "#### Agente que melhora Prompts"
   ]
  },
  {
   "cell_type": "code",
   "execution_count": 12,
   "metadata": {},
   "outputs": [],
   "source": [
    "tarefa = \"um desenvolvimento de um agente que gera revisa perguntas para um chatbot\"\n",
    "lazy_prompt = \"Sua tarefa é gerar um código em python que responde uma pergunta do usuário. A pergunta é {pergunta}\""
   ]
  },
  {
   "cell_type": "code",
   "execution_count": 13,
   "metadata": {},
   "outputs": [],
   "source": [
    "response = client.chat.completions.create(\n",
    "  model=\"gpt-4o-mini-2024-07-18\",\n",
    "  messages=[\n",
    "    {\"role\": \"system\", \"content\": \"Você é um Escritor de Prompts especialista para Modelos de Linguagem de Grande Escala.\"},\n",
    "    {\"role\": \"user\", \"content\": f\"\"\"\n",
    "Seu objetivo é melhorar o prompt fornecido abaixo para {tarefa}:\n",
    "\n",
    "Prompt: {lazy_prompt}\n",
    "\n",
    "Aqui estão várias dicas para escrever ótimos prompts:\n",
    "\n",
    "Comece o prompt afirmando que ele é especializado no assunto.\n",
    "\n",
    "Coloque as instruções no início do prompt e use ### ou para separar a instrução e o contexto.\n",
    "\n",
    "Seja específico, descritivo e o mais detalhado possível sobre o contexto desejado, resultado, comprimento, formato, estilo, etc.\n",
    "\n",
    "Aqui está um exemplo de um ótimo prompt:\n",
    "\n",
    "Como um criador de conteúdo no YouTube, desenvolva um roteiro envolvente que gire em torno do tema \"Explorando Ruínas Antigas.\"\n",
    "\n",
    "Seu roteiro deve abranger descobertas emocionantes, insights históricos e um senso de aventura.\n",
    "\n",
    "Inclua uma mistura de narração em tela, visuais envolventes e possivelmente interações com co-apresentadores ou especialistas.\n",
    "\n",
    "O roteiro deve resultar em um vídeo de aproximadamente 10-15 minutos, proporcionando aos espectadores uma jornada cativante pelos segredos do passado.\n",
    "\n",
    "Exemplo:\n",
    "\n",
    "\"Bem-vindos de volta, entusiastas da história, ao nosso canal! Hoje, embarcamos em uma expedição emocionante...\"\n",
    "\n",
    "Agora, melhore o prompt.\n",
    "\n",
    "PROMPT MELHORADO:\n",
    "\"\"\"}\n",
    "  ]\n",
    ")"
   ]
  },
  {
   "cell_type": "code",
   "execution_count": 14,
   "metadata": {},
   "outputs": [
    {
     "name": "stdout",
     "output_type": "stream",
     "text": [
      "Como um desenvolvedor de inteligência artificial especializado em chatbots, sua tarefa é criar um código em Python que responda de maneira eficiente e útil a uma pergunta do usuário. \n",
      "\n",
      "### Instruções:\n",
      "1. O código deve ser estruturado de forma clara e concisa, seguindo as melhores práticas de programação.\n",
      "2. Inclua comentários explicativos que ajudem a entender a lógica por trás de cada parte do código.\n",
      "3. A resposta deve ser gerada com base na pergunta fornecida, que será representada como {pergunta}.\n",
      "4. Certifique-se de que a resposta seja relevante e abrangente, incluindo exemplos ou possíveis variações de resposta, se apropriado.\n",
      "5. O código deve ser capaz de lidar com diferentes tipos de perguntas, desde as mais simples até as mais complexas.\n",
      "6. O comprimento do código deve ser suficiente para cobrir todas as instruções, mas sem ser excessivamente longo ou complicado.\n",
      "\n",
      "### Contexto:\n",
      "Por exemplo, se a pergunta for \"Qual é a capital da França?\", o código deve retornar \"A capital da França é Paris.\" incluindo a lógica para adaptar respostas a diferentes tipos de perguntas. \n",
      "\n",
      "Crie um código que não apenas responda a pergunta, mas também demonstre a flexibilidade e adaptabilidade de um chatbot contemporâneo.\n",
      "\n",
      "Aqui está um exemplo do que você deve produzir:\n",
      "\n",
      "```python\n",
      "def responder_pergunta(pergunta):\n",
      "    # O dicionário contém algumas respostas pré-definidas\n",
      "    respostas = {\n",
      "        \"Qual é a capital da França?\": \"A capital da França é Paris.\",\n",
      "        \"Quem escreveu 'Dom Casmurro'?\": \"O autor de 'Dom Casmurro' é Machado de Assis.\"\n",
      "    }\n",
      "    \n",
      "    # Retorna a resposta correspondente ou um texto padrão\n",
      "    return respostas.get(pergunta, \"Desculpe, não sei a resposta para essa pergunta.\")\n",
      "```\n",
      "\n",
      "### Resultado esperado:\n",
      "Um código Python que seja não só funcional, mas também educativo, proporcionando uma base sólida para um chatbot interativo que possa aprender e crescer com o tempo.\n"
     ]
    }
   ],
   "source": [
    "print(response.choices[0].message.content)"
   ]
  },
  {
   "cell_type": "code",
   "execution_count": null,
   "metadata": {},
   "outputs": [],
   "source": []
  },
  {
   "cell_type": "markdown",
   "metadata": {},
   "source": [
    "#### Agente que responde perguntas"
   ]
  },
  {
   "cell_type": "code",
   "execution_count": null,
   "metadata": {},
   "outputs": [],
   "source": [
    "question = \"\"\n",
    "context = \"\""
   ]
  },
  {
   "cell_type": "code",
   "execution_count": null,
   "metadata": {},
   "outputs": [],
   "source": [
    "response = client.chat.completions.create(\n",
    "  model=\"gpt-4o-mini-2024-07-18\",\n",
    "  messages=[\n",
    "    {\"role\": \"user\", \"content\": f\"\"\"\n",
    "Você é um assistente para tarefas de perguntas e respostas. Use as seguintes partes do contexto recuperado para responder à pergunta. Se você não souber a resposta, simplesmente diga que não sabe. Use no máximo três frases e mantenha a resposta concisa.\n",
    "\n",
    "Pergunta: {question}\n",
    "\n",
    "Contexto: {context}\n",
    "\n",
    "Resposta:\n",
    "\"\"\"}\n",
    "  ]\n",
    ")"
   ]
  },
  {
   "cell_type": "code",
   "execution_count": null,
   "metadata": {},
   "outputs": [],
   "source": []
  },
  {
   "cell_type": "code",
   "execution_count": null,
   "metadata": {},
   "outputs": [],
   "source": []
  }
 ],
 "metadata": {
  "kernelspec": {
   "display_name": "base",
   "language": "python",
   "name": "python3"
  },
  "language_info": {
   "codemirror_mode": {
    "name": "ipython",
    "version": 3
   },
   "file_extension": ".py",
   "mimetype": "text/x-python",
   "name": "python",
   "nbconvert_exporter": "python",
   "pygments_lexer": "ipython3",
   "version": "3.9.7"
  }
 },
 "nbformat": 4,
 "nbformat_minor": 2
}
